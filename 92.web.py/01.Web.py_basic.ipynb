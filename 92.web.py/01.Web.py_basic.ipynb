{
 "cells": [
  {
   "cell_type": "markdown",
   "metadata": {},
   "source": [
    "# web.py\n",
    "## 목적\n",
    "* web servivce구현을 위한\n",
    "\n",
    "## 설치\n",
    "* by pip\n",
    "```\n",
    "pip install web.py\n",
    "```\n",
    "\n",
    "* by git\n",
    "\n",
    "```\n",
    "git clone git://github.com/webpy/webpy.git\n",
    "mv webpy/wemb .\n",
    "rm -rf webpy\n",
    "python -c \"import web;print(dir(web))\"\n",
    "```\n",
    "\n",
    "* git 없으면\n",
    "\n",
    "```\n",
    "wget https://github.com/webpy/webpy/archive/master.zip\n",
    "unzip master.zip\n",
    "mv webpy-master/web .\n",
    "rm -rf webpy-master/\n",
    "\n",
    "python -c \"import web;print(dir(web))\"\n",
    "```\n",
    "\n",
    "* cf) 다 실패하면 실행하는 폴더에 web 폴더만 가져도 놓고 사용.\n"
   ]
  },
  {
   "cell_type": "code",
   "execution_count": null,
   "metadata": {},
   "outputs": [],
   "source": []
  }
 ],
 "metadata": {
  "kernelspec": {
   "display_name": "Python 3",
   "language": "python",
   "name": "python3"
  },
  "language_info": {
   "codemirror_mode": {
    "name": "ipython",
    "version": 3
   },
   "file_extension": ".py",
   "mimetype": "text/x-python",
   "name": "python",
   "nbconvert_exporter": "python",
   "pygments_lexer": "ipython3",
   "version": "3.8.9"
  }
 },
 "nbformat": 4,
 "nbformat_minor": 4
}
