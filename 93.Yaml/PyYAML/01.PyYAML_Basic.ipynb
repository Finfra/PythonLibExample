{
 "cells": [
  {
   "cell_type": "markdown",
   "metadata": {},
   "source": [
    "# PyYAML"
   ]
  },
  {
   "cell_type": "markdown",
   "metadata": {},
   "source": [
    "## install"
   ]
  },
  {
   "cell_type": "code",
   "execution_count": null,
   "metadata": {},
   "outputs": [],
   "source": [
    "## https://pyyaml.org/wiki/PyYAML\n",
    "wget http://pyyaml.org/download/pyyaml/PyYAML-3.13.zip\n",
    "brew install LibYAML\n",
    "python setup.py --with-libyaml install\n",
    "python setup.py test"
   ]
  },
  {
   "cell_type": "markdown",
   "metadata": {},
   "source": [
    "## Basic Code for Python"
   ]
  },
  {
   "cell_type": "code",
   "execution_count": null,
   "metadata": {},
   "outputs": [],
   "source": [
    "import yaml\n",
    "\n",
    "sample_yaml_as_dict = '''\n",
    "first_dict_key: some value\n",
    "second_dict_key: some other value\n",
    "'''\n",
    "\n",
    "sample_yaml_as_list = '''\n",
    "#Notice here how i don't need quotes. Read the wikipedia page for more info!\n",
    "- list item 1\n",
    "- list item 2"
   ]
  },
  {
   "cell_type": "code",
   "execution_count": null,
   "metadata": {},
   "outputs": [],
   "source": [
    "my_config_dict = yaml.load(sample_yaml_as_dict)\n",
    "print(my_config_dict)\n",
    "#Will print:\n",
    "#{'second_dict_key': 'some other value', 'first_dict_key': 'some value'}\n",
    "\n",
    "my_config_list = yaml.load(sample_yaml_as_list)\n",
    "print(my_config_list)\n",
    "#Will print:\n",
    "#['list item 1', 'list item 2']\n",
    "\n",
    "#Load some external config file\n",
    "with open('~/my_config.yaml') as fp:\n",
    "    my_configuration = yaml.load(fp)\n",
    "\n",
    "print(my_configuration_dict)"
   ]
  },
  {
   "cell_type": "markdown",
   "metadata": {},
   "source": [
    "## ruamel.yaml"
   ]
  },
  {
   "cell_type": "markdown",
   "metadata": {},
   "source": [
    "### to test"
   ]
  },
  {
   "cell_type": "code",
   "execution_count": null,
   "metadata": {},
   "outputs": [],
   "source": [
    "import sys\n",
    "#pip install ryd\n",
    "from ruamel.yaml import YAML\n",
    "\n",
    "inp = \"\"\"\\\n",
    "#example\n",
    "name:\n",
    "  # details\n",
    "  family: Smith   # very common\n",
    "  given: Alice    # one of the siblings\n",
    "\"\"\"\n",
    "\n",
    "yaml = YAML()\n",
    "code = yaml.load(inp)\n",
    "code['name']['given'] = 'Bob'\n",
    "\n",
    "yaml.dump(code, sys.stdout)"
   ]
  },
  {
   "cell_type": "code",
   "execution_count": null,
   "metadata": {},
   "outputs": [],
   "source": []
  }
 ],
 "metadata": {
  "kernelspec": {
   "display_name": "Python 3",
   "language": "python",
   "name": "python3"
  },
  "language_info": {
   "codemirror_mode": {
    "name": "ipython",
    "version": 3
   },
   "file_extension": ".py",
   "mimetype": "text/x-python",
   "name": "python",
   "nbconvert_exporter": "python",
   "pygments_lexer": "ipython3",
   "version": "3.8.9"
  }
 },
 "nbformat": 4,
 "nbformat_minor": 4
}
