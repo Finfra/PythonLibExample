{
 "cells": [
  {
   "cell_type": "markdown",
   "id": "6779e616-4c79-438e-94b5-21b473e7fa44",
   "metadata": {},
   "source": [
    "# Yaml Test"
   ]
  },
  {
   "cell_type": "markdown",
   "id": "2187c60c-8605-4359-9a86-d047471aa8ab",
   "metadata": {},
   "source": [
    "## Install"
   ]
  },
  {
   "cell_type": "code",
   "execution_count": 2,
   "id": "67d03b68-1838-4e3c-a154-92c65aa57364",
   "metadata": {},
   "outputs": [],
   "source": [
    "!pip install pyyaml"
   ]
  },
  {
   "cell_type": "markdown",
   "id": "3752a83b-3336-44f3-9dd9-55a893c0d364",
   "metadata": {},
   "source": [
    "## Load Yaml"
   ]
  },
  {
   "cell_type": "code",
   "execution_count": 7,
   "id": "fb185e3e-e1cc-4b92-be3f-02c60efea98b",
   "metadata": {},
   "outputs": [
    {
     "name": "stdout",
     "output_type": "stream",
     "text": [
      "{'info': {'project_name': 'test'}, 'paths': {'base_path': '/tmp', 'folder_of_orignal': '1.orignal_y5'}}\n"
     ]
    }
   ],
   "source": [
    "import yaml\n",
    "import json\n",
    "with open('a.yaml') as f:\n",
    "    config=yaml.load(f,Loader=yaml.FullLoader)\n",
    "    print(config)\n",
    "    "
   ]
  },
  {
   "cell_type": "markdown",
   "id": "5982748c-3f5d-40d9-af26-f41863fe1cce",
   "metadata": {},
   "source": [
    "## Print as Yaml"
   ]
  },
  {
   "cell_type": "code",
   "execution_count": 8,
   "id": "5adebac4-cf8e-40dd-94fc-90c2a3536a0b",
   "metadata": {},
   "outputs": [
    {
     "name": "stdout",
     "output_type": "stream",
     "text": [
      "info:\n",
      "  project_name: test\n",
      "paths:\n",
      "  base_path: /tmp\n",
      "  folder_of_orignal: 1.orignal_y5\n",
      "\n"
     ]
    }
   ],
   "source": [
    "print(yaml.dump(config))\n"
   ]
  },
  {
   "cell_type": "markdown",
   "id": "eaf412bf-4010-41bf-bc25-29c827294c8a",
   "metadata": {},
   "source": [
    "## Print Beautify Json Style"
   ]
  },
  {
   "cell_type": "code",
   "execution_count": 4,
   "id": "88f88f5f-b343-4be8-99f3-5a956bf90fac",
   "metadata": {},
   "outputs": [
    {
     "name": "stdout",
     "output_type": "stream",
     "text": [
      "{\n",
      "  \"info\": {\n",
      "    \"project_name\": \"test\"\n",
      "  },\n",
      "  \"paths\": {\n",
      "    \"base_path\": \"/tmp\",\n",
      "    \"folder_of_orignal\": \"1.orignal_y5\"\n",
      "  }\n",
      "}\n"
     ]
    }
   ],
   "source": [
    "print(json.dumps(config,indent=2))"
   ]
  }
 ],
 "metadata": {
  "kernelspec": {
   "display_name": "Python 3 (ipykernel)",
   "language": "python",
   "name": "python3"
  },
  "language_info": {
   "codemirror_mode": {
    "name": "ipython",
    "version": 3
   },
   "file_extension": ".py",
   "mimetype": "text/x-python",
   "name": "python",
   "nbconvert_exporter": "python",
   "pygments_lexer": "ipython3",
   "version": "3.8.9"
  }
 },
 "nbformat": 4,
 "nbformat_minor": 5
}
