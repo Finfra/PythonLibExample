{
 "cells": [
  {
   "cell_type": "markdown",
   "metadata": {
    "id": "98fS6SR1j9SQ"
   },
   "source": [
    "# Numpy Matrix\n",
    "Numpy 로 Matrix를 생성하는 방법들을 알아봅니다."
   ]
  },
  {
   "cell_type": "markdown",
   "metadata": {
    "id": "qnv9XQJHKDCl"
   },
   "source": [
    "## Import\n",
    "보통 np 로 줄여서 많이 쓰입니다."
   ]
  },
  {
   "cell_type": "code",
   "execution_count": 1,
   "metadata": {
    "executionInfo": {
     "elapsed": 536,
     "status": "ok",
     "timestamp": 1628735784017,
     "user": {
      "displayName": "김성국",
      "photoUrl": "",
      "userId": "14454204284131910272"
     },
     "user_tz": -540
    },
    "id": "q6mLiCJWjweL"
   },
   "outputs": [],
   "source": [
    "import numpy as np"
   ]
  },
  {
   "cell_type": "markdown",
   "metadata": {
    "id": "OX9Uk0Jtbfs5"
   },
   "source": [
    "## 직접 matrix 를 생성하는 방법"
   ]
  },
  {
   "cell_type": "code",
   "execution_count": 2,
   "metadata": {
    "colab": {
     "base_uri": "https://localhost:8080/"
    },
    "executionInfo": {
     "elapsed": 50,
     "status": "ok",
     "timestamp": 1628735784704,
     "user": {
      "displayName": "김성국",
      "photoUrl": "",
      "userId": "14454204284131910272"
     },
     "user_tz": -540
    },
    "id": "Ulkn9sbfaooK",
    "outputId": "3f5f5cf0-e525-46e5-9472-3239b4d64eb4"
   },
   "outputs": [
    {
     "name": "stdout",
     "output_type": "stream",
     "text": [
      "[[1 2]\n",
      " [3 4]]\n"
     ]
    }
   ],
   "source": [
    "x = np.matrix('1 2; 3 4')\n",
    "print (x)"
   ]
  },
  {
   "cell_type": "markdown",
   "metadata": {
    "id": "Is3KdzZncDjx"
   },
   "source": [
    "## reshape 를 통해 생성하는 방법"
   ]
  },
  {
   "cell_type": "code",
   "execution_count": 3,
   "metadata": {
    "colab": {
     "base_uri": "https://localhost:8080/"
    },
    "executionInfo": {
     "elapsed": 46,
     "status": "ok",
     "timestamp": 1628735784706,
     "user": {
      "displayName": "김성국",
      "photoUrl": "",
      "userId": "14454204284131910272"
     },
     "user_tz": -540
    },
    "id": "T68-BJTsa427",
    "outputId": "b56e6000-9344-426b-d2c7-594f824a7e8d"
   },
   "outputs": [
    {
     "data": {
      "text/plain": [
       "array([[ 0,  1,  2,  3,  4],\n",
       "       [ 5,  6,  7,  8,  9],\n",
       "       [10, 11, 12, 13, 14],\n",
       "       [15, 16, 17, 18, 19],\n",
       "       [20, 21, 22, 23, 24]])"
      ]
     },
     "execution_count": 3,
     "metadata": {
      "tags": []
     },
     "output_type": "execute_result"
    }
   ],
   "source": [
    "np.arange(25).reshape((5,5))"
   ]
  },
  {
   "cell_type": "code",
   "execution_count": 4,
   "metadata": {
    "colab": {
     "base_uri": "https://localhost:8080/"
    },
    "executionInfo": {
     "elapsed": 44,
     "status": "ok",
     "timestamp": 1628735784707,
     "user": {
      "displayName": "김성국",
      "photoUrl": "",
      "userId": "14454204284131910272"
     },
     "user_tz": -540
    },
    "id": "KYnfwdSxa3AG",
    "outputId": "5b70f61d-07ae-4b95-c59d-7bc3dc72608e"
   },
   "outputs": [
    {
     "data": {
      "text/plain": [
       "array([[ 0,  1,  2,  3,  4],\n",
       "       [ 5,  6,  7,  8,  9],\n",
       "       [10, 11, 12, 13, 14],\n",
       "       [15, 16, 17, 18, 19],\n",
       "       [20, 21, 22, 23, 24]])"
      ]
     },
     "execution_count": 4,
     "metadata": {
      "tags": []
     },
     "output_type": "execute_result"
    }
   ],
   "source": [
    "np.array(range(25)).reshape((-1, 5))"
   ]
  },
  {
   "cell_type": "code",
   "execution_count": 5,
   "metadata": {
    "colab": {
     "base_uri": "https://localhost:8080/"
    },
    "executionInfo": {
     "elapsed": 43,
     "status": "ok",
     "timestamp": 1628735784710,
     "user": {
      "displayName": "김성국",
      "photoUrl": "",
      "userId": "14454204284131910272"
     },
     "user_tz": -540
    },
    "id": "yxkitJgVc9g3",
    "outputId": "cee120cd-6373-4086-f717-cde8b3c08437"
   },
   "outputs": [
    {
     "data": {
      "text/plain": [
       "array([[1., 1., 1.],\n",
       "       [1., 1., 1.],\n",
       "       [1., 1., 1.],\n",
       "       [1., 1., 1.]])"
      ]
     },
     "execution_count": 5,
     "metadata": {
      "tags": []
     },
     "output_type": "execute_result"
    }
   ],
   "source": [
    "a=np.ones(12)\n",
    "a=a.reshape(-1,3)\n",
    "a"
   ]
  },
  {
   "cell_type": "markdown",
   "metadata": {
    "id": "AH7uDr9rcVYZ"
   },
   "source": [
    "## Array 를 Matrix 형태로 생성하기"
   ]
  },
  {
   "cell_type": "code",
   "execution_count": 6,
   "metadata": {
    "colab": {
     "base_uri": "https://localhost:8080/"
    },
    "executionInfo": {
     "elapsed": 40,
     "status": "ok",
     "timestamp": 1628735784711,
     "user": {
      "displayName": "김성국",
      "photoUrl": "",
      "userId": "14454204284131910272"
     },
     "user_tz": -540
    },
    "id": "P37eonaibG-K",
    "outputId": "b6dc4906-a717-42a6-c987-871dc7f52176"
   },
   "outputs": [
    {
     "data": {
      "text/plain": [
       "array([[4.63803223e-310, 0.00000000e+000, 0.00000000e+000,\n",
       "        0.00000000e+000, 0.00000000e+000],\n",
       "       [0.00000000e+000, 0.00000000e+000, 0.00000000e+000,\n",
       "        0.00000000e+000, 0.00000000e+000],\n",
       "       [0.00000000e+000, 0.00000000e+000, 0.00000000e+000,\n",
       "        0.00000000e+000, 0.00000000e+000],\n",
       "       [0.00000000e+000, 0.00000000e+000, 0.00000000e+000,\n",
       "        0.00000000e+000, 0.00000000e+000],\n",
       "       [0.00000000e+000, 0.00000000e+000, 0.00000000e+000,\n",
       "        0.00000000e+000, 0.00000000e+000]])"
      ]
     },
     "execution_count": 6,
     "metadata": {
      "tags": []
     },
     "output_type": "execute_result"
    }
   ],
   "source": [
    "np.ndarray((5,5))"
   ]
  },
  {
   "cell_type": "markdown",
   "metadata": {
    "id": "NsrX_ogJcfoR"
   },
   "source": [
    "## 값에 접근하는 방법<BR>\n",
    "- a 라는 matrix 를 생성한다."
   ]
  },
  {
   "cell_type": "code",
   "execution_count": 7,
   "metadata": {
    "colab": {
     "base_uri": "https://localhost:8080/"
    },
    "executionInfo": {
     "elapsed": 37,
     "status": "ok",
     "timestamp": 1628735784712,
     "user": {
      "displayName": "김성국",
      "photoUrl": "",
      "userId": "14454204284131910272"
     },
     "user_tz": -540
    },
    "id": "NqcRK3T-bKCf",
    "outputId": "73cb25fc-babe-41a5-b8e5-a9594f52ea89"
   },
   "outputs": [
    {
     "data": {
      "text/plain": [
       "array([[1, 2],\n",
       "       [3, 4]])"
      ]
     },
     "execution_count": 7,
     "metadata": {
      "tags": []
     },
     "output_type": "execute_result"
    }
   ],
   "source": [
    "a=np.array([[1, 2],[3, 4]])\n",
    "a"
   ]
  },
  {
   "cell_type": "markdown",
   "metadata": {
    "id": "6blL5f72coFD"
   },
   "source": [
    "- a[행][렬] 의 형식으로 접근한다."
   ]
  },
  {
   "cell_type": "code",
   "execution_count": 8,
   "metadata": {
    "colab": {
     "base_uri": "https://localhost:8080/"
    },
    "executionInfo": {
     "elapsed": 33,
     "status": "ok",
     "timestamp": 1628735784713,
     "user": {
      "displayName": "김성국",
      "photoUrl": "",
      "userId": "14454204284131910272"
     },
     "user_tz": -540
    },
    "id": "KVb0DwHpbRoc",
    "outputId": "c941ac57-4c17-4a19-e74a-508baa445100"
   },
   "outputs": [
    {
     "data": {
      "text/plain": [
       "3"
      ]
     },
     "execution_count": 8,
     "metadata": {
      "tags": []
     },
     "output_type": "execute_result"
    }
   ],
   "source": [
    "a[1][0]"
   ]
  },
  {
   "cell_type": "markdown",
   "metadata": {
    "id": "ecIGCN1he_Zl"
   },
   "source": [
    "# Matrix Examples\n",
    "2차원으로 3차원 만들기\n",
    "- 일괄 생성시 상위 차원 1 추가하기\n",
    "- 숫자 입력시 각 괄호 입력"
   ]
  },
  {
   "cell_type": "code",
   "execution_count": 9,
   "metadata": {
    "colab": {
     "base_uri": "https://localhost:8080/"
    },
    "executionInfo": {
     "elapsed": 30,
     "status": "ok",
     "timestamp": 1628735784713,
     "user": {
      "displayName": "김성국",
      "photoUrl": "",
      "userId": "14454204284131910272"
     },
     "user_tz": -540
    },
    "id": "-UuQyn89e_5S",
    "outputId": "28aaac62-fb22-4cdd-c4d0-f6d81206ecf1"
   },
   "outputs": [
    {
     "data": {
      "text/plain": [
       "array([[[1., 1.],\n",
       "        [1., 1.]]])"
      ]
     },
     "execution_count": 9,
     "metadata": {
      "tags": []
     },
     "output_type": "execute_result"
    }
   ],
   "source": [
    "i1 = np.ones((1,2,2))\n",
    "i1"
   ]
  },
  {
   "cell_type": "code",
   "execution_count": 10,
   "metadata": {
    "colab": {
     "base_uri": "https://localhost:8080/"
    },
    "executionInfo": {
     "elapsed": 27,
     "status": "ok",
     "timestamp": 1628735784714,
     "user": {
      "displayName": "김성국",
      "photoUrl": "",
      "userId": "14454204284131910272"
     },
     "user_tz": -540
    },
    "id": "EL61nwUnGgiV",
    "outputId": "fc43a24b-51bf-483b-845a-73ebc368e865"
   },
   "outputs": [
    {
     "data": {
      "text/plain": [
       "(1, 2, 2)"
      ]
     },
     "execution_count": 10,
     "metadata": {
      "tags": []
     },
     "output_type": "execute_result"
    }
   ],
   "source": [
    "i2 = np.array([[[1,2,],[3,4]]])\n",
    "i2.shape"
   ]
  },
  {
   "cell_type": "code",
   "execution_count": 11,
   "metadata": {
    "colab": {
     "base_uri": "https://localhost:8080/"
    },
    "executionInfo": {
     "elapsed": 25,
     "status": "ok",
     "timestamp": 1628735784715,
     "user": {
      "displayName": "김성국",
      "photoUrl": "",
      "userId": "14454204284131910272"
     },
     "user_tz": -540
    },
    "id": "yG5RcUejGvCp",
    "outputId": "14cb0735-6181-47d7-e161-c9ac57589b95"
   },
   "outputs": [
    {
     "name": "stdout",
     "output_type": "stream",
     "text": [
      "(3, 2, 2)\n",
      "\n",
      "[[[1. 1.]\n",
      "  [1. 1.]]\n",
      "\n",
      " [[1. 2.]\n",
      "  [3. 4.]]\n",
      "\n",
      " [[1. 1.]\n",
      "  [1. 1.]]]\n"
     ]
    }
   ],
   "source": [
    "a = np.vstack( (i1, i2, i1))\n",
    "print (f\"{a.shape}\\n\\n{a}\")"
   ]
  }
 ],
 "metadata": {
  "accelerator": "GPU",
  "colab": {
   "collapsed_sections": [],
   "name": "03_Numpy_Matrix.ipynb",
   "provenance": [],
   "toc_visible": true
  },
  "kernelspec": {
   "display_name": "Python 3",
   "language": "python",
   "name": "python3"
  },
  "language_info": {
   "codemirror_mode": {
    "name": "ipython",
    "version": 3
   },
   "file_extension": ".py",
   "mimetype": "text/x-python",
   "name": "python",
   "nbconvert_exporter": "python",
   "pygments_lexer": "ipython3",
   "version": "3.8.9"
  }
 },
 "nbformat": 4,
 "nbformat_minor": 4
}
