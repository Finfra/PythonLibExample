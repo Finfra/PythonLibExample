{
 "cells": [
  {
   "cell_type": "code",
   "execution_count": 20,
   "metadata": {},
   "outputs": [
    {
     "name": "stdout",
     "output_type": "stream",
     "text": [
      "/Users/nowage/GoogleDrive_finfra/Git/NumpyAndPandas/Pandas\n"
     ]
    }
   ],
   "source": [
    "from os.path import join,isfile,isdir\n",
    "import pandas as pd\n",
    "url = 'http://j.finfra.com/_file/emp.csv'\n",
    "dPath='/tmp/emp.csv'  \n",
    "if not isfile(dPath) :\n",
    "  !pwd\n",
    "  storage_options = {'User-Agent': 'Mozilla/5.0'}\n",
    "  df = pd.read_csv(url)\n",
    "  df.to_csv(dPath,index=False)\n",
    "else:\n",
    "  df = pd.read_csv(dPath)\n",
    "    "
   ]
  },
  {
   "cell_type": "code",
   "execution_count": 24,
   "metadata": {},
   "outputs": [
    {
     "data": {
      "text/html": [
       "<div>\n",
       "<style scoped>\n",
       "    .dataframe tbody tr th:only-of-type {\n",
       "        vertical-align: middle;\n",
       "    }\n",
       "\n",
       "    .dataframe tbody tr th {\n",
       "        vertical-align: top;\n",
       "    }\n",
       "\n",
       "    .dataframe thead th {\n",
       "        text-align: right;\n",
       "    }\n",
       "</style>\n",
       "<table border=\"1\" class=\"dataframe\">\n",
       "  <thead>\n",
       "    <tr style=\"text-align: right;\">\n",
       "      <th></th>\n",
       "      <th>empno,ename,job,mgr,hiredate,sal,comm,deptno</th>\n",
       "    </tr>\n",
       "  </thead>\n",
       "  <tbody>\n",
       "    <tr>\n",
       "      <th>0</th>\n",
       "      <td>7839,KING,PRESIDENT,NULL,1981-11-17,5000,NULL,10</td>\n",
       "    </tr>\n",
       "    <tr>\n",
       "      <th>1</th>\n",
       "      <td>7698,BLAKE,MANAGER,7839,1981-05-01,2850,NULL,30</td>\n",
       "    </tr>\n",
       "    <tr>\n",
       "      <th>2</th>\n",
       "      <td>7782,CLARK,MANAGER,7839,1981-05-09,2450,NULL,10</td>\n",
       "    </tr>\n",
       "    <tr>\n",
       "      <th>3</th>\n",
       "      <td>7566,JONES,MANAGER,7839,1981-04-01,2975,NULL,20</td>\n",
       "    </tr>\n",
       "    <tr>\n",
       "      <th>4</th>\n",
       "      <td>7654,MARTIN,SALESMAN,7698,1981-09-10,1250,1400,30</td>\n",
       "    </tr>\n",
       "    <tr>\n",
       "      <th>5</th>\n",
       "      <td>7499,ALLEN,SALESMAN,7698,1981-02-11,1600,300,30</td>\n",
       "    </tr>\n",
       "    <tr>\n",
       "      <th>6</th>\n",
       "      <td>7844,TURNER,SALESMAN,7698,1981-08-21,1500,0,30</td>\n",
       "    </tr>\n",
       "    <tr>\n",
       "      <th>7</th>\n",
       "      <td>7900,JAMES,CLERK,7698,1981-12-11,950,NULL,30</td>\n",
       "    </tr>\n",
       "    <tr>\n",
       "      <th>8</th>\n",
       "      <td>7521,WARD,SALESMAN,7698,1981-02-23,1250,500,30</td>\n",
       "    </tr>\n",
       "    <tr>\n",
       "      <th>9</th>\n",
       "      <td>7902,FORD,ANALYST,7566,1981-12-11,3000,NULL,20</td>\n",
       "    </tr>\n",
       "    <tr>\n",
       "      <th>10</th>\n",
       "      <td>7369,SMITH,CLERK,7902,1980-12-09,800,NULL,20</td>\n",
       "    </tr>\n",
       "    <tr>\n",
       "      <th>11</th>\n",
       "      <td>7788,SCOTT,ANALYST,7566,1982-12-22,3000,NULL,20</td>\n",
       "    </tr>\n",
       "    <tr>\n",
       "      <th>12</th>\n",
       "      <td>7876,ADAMS,CLERK,7788,1983-01-15,1100,NULL,20</td>\n",
       "    </tr>\n",
       "    <tr>\n",
       "      <th>13</th>\n",
       "      <td>7934,MILLER,CLERK,7782,1982-01-11,1300,NULL,10</td>\n",
       "    </tr>\n",
       "  </tbody>\n",
       "</table>\n",
       "</div>"
      ],
      "text/plain": [
       "         empno,ename,job,mgr,hiredate,sal,comm,deptno\n",
       "0    7839,KING,PRESIDENT,NULL,1981-11-17,5000,NULL,10\n",
       "1     7698,BLAKE,MANAGER,7839,1981-05-01,2850,NULL,30\n",
       "2     7782,CLARK,MANAGER,7839,1981-05-09,2450,NULL,10\n",
       "3     7566,JONES,MANAGER,7839,1981-04-01,2975,NULL,20\n",
       "4   7654,MARTIN,SALESMAN,7698,1981-09-10,1250,1400,30\n",
       "5     7499,ALLEN,SALESMAN,7698,1981-02-11,1600,300,30\n",
       "6      7844,TURNER,SALESMAN,7698,1981-08-21,1500,0,30\n",
       "7        7900,JAMES,CLERK,7698,1981-12-11,950,NULL,30\n",
       "8      7521,WARD,SALESMAN,7698,1981-02-23,1250,500,30\n",
       "9      7902,FORD,ANALYST,7566,1981-12-11,3000,NULL,20\n",
       "10       7369,SMITH,CLERK,7902,1980-12-09,800,NULL,20\n",
       "11    7788,SCOTT,ANALYST,7566,1982-12-22,3000,NULL,20\n",
       "12      7876,ADAMS,CLERK,7788,1983-01-15,1100,NULL,20\n",
       "13     7934,MILLER,CLERK,7782,1982-01-11,1300,NULL,10"
      ]
     },
     "execution_count": 24,
     "metadata": {},
     "output_type": "execute_result"
    }
   ],
   "source": [
    "df"
   ]
  },
  {
   "cell_type": "code",
   "execution_count": 33,
   "metadata": {},
   "outputs": [
    {
     "name": "stdout",
     "output_type": "stream",
     "text": [
      "/Users/nowage/GoogleDrive_finfra/Git/NumpyAndPandas/Pandas\n"
     ]
    }
   ],
   "source": [
    "import pandas as pd\n",
    "url = 'http://j.finfra.com/_file/example.tsv'\n",
    "dPath='/tmp/example.tsv'\n",
    "\n",
    "if not isfile(dPath) :\n",
    "  !pwd\n",
    "  storage_options = {'User-Agent': 'Mozilla/5.0'}\n",
    "  df = pd.read_table(url)\n",
    "  df.to_csv(dPath,index=False,sep=\"\\t\")\n",
    "else:\n",
    "  df = pd.read_csv(dPath,sep=\"\\t\")"
   ]
  },
  {
   "cell_type": "code",
   "execution_count": 34,
   "metadata": {},
   "outputs": [],
   "source": [
    "!rm {dPath}"
   ]
  },
  {
   "cell_type": "code",
   "execution_count": 35,
   "metadata": {},
   "outputs": [
    {
     "data": {
      "text/html": [
       "<div>\n",
       "<style scoped>\n",
       "    .dataframe tbody tr th:only-of-type {\n",
       "        vertical-align: middle;\n",
       "    }\n",
       "\n",
       "    .dataframe tbody tr th {\n",
       "        vertical-align: top;\n",
       "    }\n",
       "\n",
       "    .dataframe thead th {\n",
       "        text-align: right;\n",
       "    }\n",
       "</style>\n",
       "<table border=\"1\" class=\"dataframe\">\n",
       "  <thead>\n",
       "    <tr style=\"text-align: right;\">\n",
       "      <th></th>\n",
       "      <th>id</th>\n",
       "      <th>document</th>\n",
       "      <th>label</th>\n",
       "    </tr>\n",
       "  </thead>\n",
       "  <tbody>\n",
       "    <tr>\n",
       "      <th>0</th>\n",
       "      <td>96</td>\n",
       "      <td>인생 영화 추천</td>\n",
       "      <td>1</td>\n",
       "    </tr>\n",
       "    <tr>\n",
       "      <th>1</th>\n",
       "      <td>99</td>\n",
       "      <td>망작이다</td>\n",
       "      <td>0</td>\n",
       "    </tr>\n",
       "    <tr>\n",
       "      <th>2</th>\n",
       "      <td>78</td>\n",
       "      <td>쓰래기 보는데 돈을 쓰다니</td>\n",
       "      <td>0</td>\n",
       "    </tr>\n",
       "    <tr>\n",
       "      <th>3</th>\n",
       "      <td>95</td>\n",
       "      <td>진짜 재미 없다</td>\n",
       "      <td>0</td>\n",
       "    </tr>\n",
       "    <tr>\n",
       "      <th>4</th>\n",
       "      <td>15</td>\n",
       "      <td>볼일 없다</td>\n",
       "      <td>0</td>\n",
       "    </tr>\n",
       "    <tr>\n",
       "      <th>5</th>\n",
       "      <td>5</td>\n",
       "      <td>마음이 편해진다.</td>\n",
       "      <td>1</td>\n",
       "    </tr>\n",
       "    <tr>\n",
       "      <th>6</th>\n",
       "      <td>43</td>\n",
       "      <td>돈이 아깝다</td>\n",
       "      <td>0</td>\n",
       "    </tr>\n",
       "    <tr>\n",
       "      <th>7</th>\n",
       "      <td>71</td>\n",
       "      <td>지루하다</td>\n",
       "      <td>0</td>\n",
       "    </tr>\n",
       "    <tr>\n",
       "      <th>8</th>\n",
       "      <td>78</td>\n",
       "      <td>차라리 남중구 강의를 듣겠다</td>\n",
       "      <td>0</td>\n",
       "    </tr>\n",
       "  </tbody>\n",
       "</table>\n",
       "</div>"
      ],
      "text/plain": [
       "   id         document  label\n",
       "0  96         인생 영화 추천      1\n",
       "1  99             망작이다      0\n",
       "2  78   쓰래기 보는데 돈을 쓰다니      0\n",
       "3  95         진짜 재미 없다      0\n",
       "4  15            볼일 없다      0\n",
       "5   5        마음이 편해진다.      1\n",
       "6  43           돈이 아깝다      0\n",
       "7  71             지루하다      0\n",
       "8  78  차라리 남중구 강의를 듣겠다      0"
      ]
     },
     "execution_count": 35,
     "metadata": {},
     "output_type": "execute_result"
    }
   ],
   "source": [
    "df"
   ]
  },
  {
   "cell_type": "code",
   "execution_count": null,
   "metadata": {},
   "outputs": [],
   "source": []
  }
 ],
 "metadata": {
  "kernelspec": {
   "display_name": "Python 3",
   "language": "python",
   "name": "python3"
  },
  "language_info": {
   "codemirror_mode": {
    "name": "ipython",
    "version": 3
   },
   "file_extension": ".py",
   "mimetype": "text/x-python",
   "name": "python",
   "nbconvert_exporter": "python",
   "pygments_lexer": "ipython3",
   "version": "3.8.9"
  }
 },
 "nbformat": 4,
 "nbformat_minor": 4
}
