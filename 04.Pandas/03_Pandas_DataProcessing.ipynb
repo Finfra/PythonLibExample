{
 "cells": [
  {
   "cell_type": "markdown",
   "metadata": {
    "id": "98fS6SR1j9SQ"
   },
   "source": [
    "# Pandas Data\n",
    "Pandas 를 이용해 Data 를 가공하는 법을 알아봅니다."
   ]
  },
  {
   "cell_type": "markdown",
   "metadata": {
    "id": "cZeYVq2xT1rt"
   },
   "source": [
    "## Import\n",
    "보통 pd 로 많이 사용합니다."
   ]
  },
  {
   "cell_type": "code",
   "execution_count": 2,
   "metadata": {
    "executionInfo": {
     "elapsed": 14,
     "status": "ok",
     "timestamp": 1630977440995,
     "user": {
      "displayName": "김성국",
      "photoUrl": "https://lh3.googleusercontent.com/a/default-user=s64",
      "userId": "14454204284131910272"
     },
     "user_tz": -540
    },
    "id": "jk0hW1KZT8c0"
   },
   "outputs": [],
   "source": [
    "import pandas as pd"
   ]
  },
  {
   "cell_type": "markdown",
   "metadata": {
    "id": "SdJshT6OV3lU"
   },
   "source": [
    "version 확인"
   ]
  },
  {
   "cell_type": "code",
   "execution_count": 3,
   "metadata": {
    "colab": {
     "base_uri": "https://localhost:8080/",
     "height": 35
    },
    "executionInfo": {
     "elapsed": 14,
     "status": "ok",
     "timestamp": 1630977440997,
     "user": {
      "displayName": "김성국",
      "photoUrl": "https://lh3.googleusercontent.com/a/default-user=s64",
      "userId": "14454204284131910272"
     },
     "user_tz": -540
    },
    "id": "Vdfeo_1lV4-0",
    "outputId": "983083c9-f60b-4f26-8f3f-b507f2d134fb"
   },
   "outputs": [
    {
     "data": {
      "text/plain": [
       "'1.2.0'"
      ]
     },
     "execution_count": 3,
     "metadata": {},
     "output_type": "execute_result"
    }
   ],
   "source": [
    "pd.__version__"
   ]
  },
  {
   "cell_type": "markdown",
   "metadata": {
    "id": "RXD_GnOvV0T0"
   },
   "source": [
    "## Data 를 가져오기\n"
   ]
  },
  {
   "cell_type": "markdown",
   "metadata": {
    "id": "uRJeTKgPbrVh"
   },
   "source": [
    "### 데이터 다운로드"
   ]
  },
  {
   "cell_type": "code",
   "execution_count": 4,
   "metadata": {
    "colab": {
     "base_uri": "https://localhost:8080/"
    },
    "executionInfo": {
     "elapsed": 918,
     "status": "ok",
     "timestamp": 1630977441903,
     "user": {
      "displayName": "김성국",
      "photoUrl": "https://lh3.googleusercontent.com/a/default-user=s64",
      "userId": "14454204284131910272"
     },
     "user_tz": -540
    },
    "id": "i1EmLTkKbfei",
    "outputId": "1caa2259-dea5-4d13-e69f-cfd1303ea8e7"
   },
   "outputs": [
    {
     "name": "stdout",
     "output_type": "stream",
     "text": [
      "--2021-09-10 17:51:25--  https://github.com/Finfra/TensorflowStudyExample/raw/master/data/example.csv\n",
      "Resolving github.com (github.com)... 52.78.231.108\n",
      "Connecting to github.com (github.com)|52.78.231.108|:443... connected.\n",
      "HTTP request sent, awaiting response... 302 Found\n",
      "Location: https://raw.githubusercontent.com/Finfra/TensorflowStudyExample/master/data/example.csv [following]\n",
      "--2021-09-10 17:51:25--  https://raw.githubusercontent.com/Finfra/TensorflowStudyExample/master/data/example.csv\n",
      "Resolving raw.githubusercontent.com (raw.githubusercontent.com)... 185.199.109.133, 185.199.111.133, 185.199.108.133, ...\n",
      "Connecting to raw.githubusercontent.com (raw.githubusercontent.com)|185.199.109.133|:443... connected.\n",
      "HTTP request sent, awaiting response... 200 OK\n",
      "Length: 61 [text/plain]\n",
      "Saving to: ‘/tmp/example.csv’\n",
      "\n",
      "/tmp/example.csv    100%[===================>]      61  --.-KB/s    in 0s      \n",
      "\n",
      "2021-09-10 17:51:26 (2.64 MB/s) - ‘/tmp/example.csv’ saved [61/61]\n",
      "\n"
     ]
    }
   ],
   "source": [
    "!wget -O/tmp/example.csv https://github.com/Finfra/TensorflowStudyExample/raw/master/data/example.csv"
   ]
  },
  {
   "cell_type": "markdown",
   "metadata": {
    "id": "2pPy8zKPqui3"
   },
   "source": [
    "### 구글 드라이브를 더 잘 붙어 있게 해주는 방법"
   ]
  },
  {
   "cell_type": "code",
   "execution_count": null,
   "metadata": {
    "colab": {
     "base_uri": "https://localhost:8080/"
    },
    "executionInfo": {
     "elapsed": 22441,
     "status": "ok",
     "timestamp": 1630977464341,
     "user": {
      "displayName": "김성국",
      "photoUrl": "https://lh3.googleusercontent.com/a/default-user=s64",
      "userId": "14454204284131910272"
     },
     "user_tz": -540
    },
    "id": "vdPsBmKhquZ0",
    "outputId": "cd921c0b-0a62-4f2b-a316-73d5c340e95c"
   },
   "outputs": [],
   "source": [
    "from google.colab import drive\n",
    "isMount=!df |grep /content/drive\n",
    "if len(isMount) < 1 : drive.mount('/content/drive', force_remount=False)"
   ]
  },
  {
   "cell_type": "markdown",
   "metadata": {
    "id": "pzVzcvpnq74s"
   },
   "source": [
    "%cd 로 움직여서 해당 Path 위치에 있도록 도와준다."
   ]
  },
  {
   "cell_type": "code",
   "execution_count": 5,
   "metadata": {
    "executionInfo": {
     "elapsed": 13,
     "status": "ok",
     "timestamp": 1630977464343,
     "user": {
      "displayName": "김성국",
      "photoUrl": "https://lh3.googleusercontent.com/a/default-user=s64",
      "userId": "14454204284131910272"
     },
     "user_tz": -540
    },
    "id": "H_nyoLBxq5d9"
   },
   "outputs": [],
   "source": [
    "# %cd /gdrive/My Drive/PracticeProject/1st_MLP_easy\n",
    "# !ls"
   ]
  },
  {
   "cell_type": "markdown",
   "metadata": {
    "id": "y1W4hZwacfaY"
   },
   "source": [
    "### CSV 데이터 읽어오기"
   ]
  },
  {
   "cell_type": "code",
   "execution_count": 6,
   "metadata": {
    "colab": {
     "base_uri": "https://localhost:8080/",
     "height": 204
    },
    "executionInfo": {
     "elapsed": 13,
     "status": "ok",
     "timestamp": 1630977464345,
     "user": {
      "displayName": "김성국",
      "photoUrl": "https://lh3.googleusercontent.com/a/default-user=s64",
      "userId": "14454204284131910272"
     },
     "user_tz": -540
    },
    "id": "3PMVHcC6cTRT",
    "outputId": "0b80d99b-1655-4731-fbe4-059d10d7fce0"
   },
   "outputs": [
    {
     "data": {
      "text/html": [
       "<div>\n",
       "<style scoped>\n",
       "    .dataframe tbody tr th:only-of-type {\n",
       "        vertical-align: middle;\n",
       "    }\n",
       "\n",
       "    .dataframe tbody tr th {\n",
       "        vertical-align: top;\n",
       "    }\n",
       "\n",
       "    .dataframe thead th {\n",
       "        text-align: right;\n",
       "    }\n",
       "</style>\n",
       "<table border=\"1\" class=\"dataframe\">\n",
       "  <thead>\n",
       "    <tr style=\"text-align: right;\">\n",
       "      <th></th>\n",
       "      <th>a</th>\n",
       "      <th>b</th>\n",
       "      <th>c</th>\n",
       "      <th>d</th>\n",
       "      <th>e</th>\n",
       "    </tr>\n",
       "  </thead>\n",
       "  <tbody>\n",
       "    <tr>\n",
       "      <th>0</th>\n",
       "      <td>1</td>\n",
       "      <td>2</td>\n",
       "      <td>3</td>\n",
       "      <td>4</td>\n",
       "      <td>5</td>\n",
       "    </tr>\n",
       "    <tr>\n",
       "      <th>1</th>\n",
       "      <td>6</td>\n",
       "      <td>1</td>\n",
       "      <td>2</td>\n",
       "      <td>3</td>\n",
       "      <td>4</td>\n",
       "    </tr>\n",
       "    <tr>\n",
       "      <th>2</th>\n",
       "      <td>7</td>\n",
       "      <td>8</td>\n",
       "      <td>9</td>\n",
       "      <td>0</td>\n",
       "      <td>9</td>\n",
       "    </tr>\n",
       "    <tr>\n",
       "      <th>3</th>\n",
       "      <td>4</td>\n",
       "      <td>5</td>\n",
       "      <td>6</td>\n",
       "      <td>7</td>\n",
       "      <td>8</td>\n",
       "    </tr>\n",
       "    <tr>\n",
       "      <th>4</th>\n",
       "      <td>11</td>\n",
       "      <td>13</td>\n",
       "      <td>8</td>\n",
       "      <td>5</td>\n",
       "      <td>5</td>\n",
       "    </tr>\n",
       "  </tbody>\n",
       "</table>\n",
       "</div>"
      ],
      "text/plain": [
       "    a   b  c  d  e\n",
       "0   1   2  3  4  5\n",
       "1   6   1  2  3  4\n",
       "2   7   8  9  0  9\n",
       "3   4   5  6  7  8\n",
       "4  11  13  8  5  5"
      ]
     },
     "execution_count": 6,
     "metadata": {},
     "output_type": "execute_result"
    }
   ],
   "source": [
    "df = pd.read_csv(\"/tmp/example.csv\")\n",
    "df"
   ]
  },
  {
   "cell_type": "markdown",
   "metadata": {},
   "source": [
    "## Excell 데이터 읽어오기"
   ]
  },
  {
   "cell_type": "code",
   "execution_count": null,
   "metadata": {},
   "outputs": [],
   "source": [
    "!pip3 install xlrd"
   ]
  },
  {
   "cell_type": "code",
   "execution_count": 10,
   "metadata": {},
   "outputs": [
    {
     "data": {
      "text/html": [
       "<div>\n",
       "<style scoped>\n",
       "    .dataframe tbody tr th:only-of-type {\n",
       "        vertical-align: middle;\n",
       "    }\n",
       "\n",
       "    .dataframe tbody tr th {\n",
       "        vertical-align: top;\n",
       "    }\n",
       "\n",
       "    .dataframe thead th {\n",
       "        text-align: right;\n",
       "    }\n",
       "</style>\n",
       "<table border=\"1\" class=\"dataframe\">\n",
       "  <thead>\n",
       "    <tr style=\"text-align: right;\">\n",
       "      <th></th>\n",
       "      <th>a</th>\n",
       "      <th>b</th>\n",
       "      <th>c</th>\n",
       "      <th>d</th>\n",
       "      <th>e</th>\n",
       "    </tr>\n",
       "  </thead>\n",
       "  <tbody>\n",
       "    <tr>\n",
       "      <th>0</th>\n",
       "      <td>1</td>\n",
       "      <td>2</td>\n",
       "      <td>3</td>\n",
       "      <td>4</td>\n",
       "      <td>5</td>\n",
       "    </tr>\n",
       "    <tr>\n",
       "      <th>1</th>\n",
       "      <td>6</td>\n",
       "      <td>1</td>\n",
       "      <td>2</td>\n",
       "      <td>3</td>\n",
       "      <td>4</td>\n",
       "    </tr>\n",
       "    <tr>\n",
       "      <th>2</th>\n",
       "      <td>7</td>\n",
       "      <td>8</td>\n",
       "      <td>9</td>\n",
       "      <td>0</td>\n",
       "      <td>9</td>\n",
       "    </tr>\n",
       "    <tr>\n",
       "      <th>3</th>\n",
       "      <td>4</td>\n",
       "      <td>5</td>\n",
       "      <td>6</td>\n",
       "      <td>7</td>\n",
       "      <td>8</td>\n",
       "    </tr>\n",
       "    <tr>\n",
       "      <th>4</th>\n",
       "      <td>11</td>\n",
       "      <td>13</td>\n",
       "      <td>8</td>\n",
       "      <td>5</td>\n",
       "      <td>5</td>\n",
       "    </tr>\n",
       "  </tbody>\n",
       "</table>\n",
       "</div>"
      ],
      "text/plain": [
       "    a   b  c  d  e\n",
       "0   1   2  3  4  5\n",
       "1   6   1  2  3  4\n",
       "2   7   8  9  0  9\n",
       "3   4   5  6  7  8\n",
       "4  11  13  8  5  5"
      ]
     },
     "execution_count": 10,
     "metadata": {},
     "output_type": "execute_result"
    }
   ],
   "source": [
    "i_cols=['a','b','c','d','e']\n",
    "# pd.read_excel('./example_data/example.xlsx')\n",
    "pd.read_excel('https://github.com/Finfra/TensorflowStudyExample/raw/master/data/example.xlsx')"
   ]
  },
  {
   "cell_type": "markdown",
   "metadata": {
    "id": "3kcxDS3Mv7Pa"
   },
   "source": [
    "## Data 분석하기"
   ]
  },
  {
   "cell_type": "markdown",
   "metadata": {
    "id": "XClCP30KxIYc"
   },
   "source": [
    "### countplot\n",
    "답변 갯수가 불균형적이거나 하는 것을 찾을 때 쓰면 좋다.<BR>\n"
   ]
  },
  {
   "cell_type": "code",
   "execution_count": 7,
   "metadata": {
    "executionInfo": {
     "elapsed": 472,
     "status": "ok",
     "timestamp": 1630977464806,
     "user": {
      "displayName": "김성국",
      "photoUrl": "https://lh3.googleusercontent.com/a/default-user=s64",
      "userId": "14454204284131910272"
     },
     "user_tz": -540
    },
    "id": "MWKIHJxEv7Hb"
   },
   "outputs": [],
   "source": [
    "import matplotlib.pyplot as plt\n",
    "from lightgbm import LGBMClassifier\n",
    "import seaborn as sns\n",
    "from sklearn.metrics import roc_auc_score"
   ]
  },
  {
   "cell_type": "code",
   "execution_count": 8,
   "metadata": {
    "colab": {
     "base_uri": "https://localhost:8080/",
     "height": 204
    },
    "executionInfo": {
     "elapsed": 507,
     "status": "ok",
     "timestamp": 1630977465303,
     "user": {
      "displayName": "김성국",
      "photoUrl": "https://lh3.googleusercontent.com/a/default-user=s64",
      "userId": "14454204284131910272"
     },
     "user_tz": -540
    },
    "id": "n96nRV1WwFPE",
    "outputId": "6e29ee20-a3b3-4bcb-c500-9d43e8bb3f10"
   },
   "outputs": [
    {
     "data": {
      "text/html": [
       "<div>\n",
       "<style scoped>\n",
       "    .dataframe tbody tr th:only-of-type {\n",
       "        vertical-align: middle;\n",
       "    }\n",
       "\n",
       "    .dataframe tbody tr th {\n",
       "        vertical-align: top;\n",
       "    }\n",
       "\n",
       "    .dataframe thead th {\n",
       "        text-align: right;\n",
       "    }\n",
       "</style>\n",
       "<table border=\"1\" class=\"dataframe\">\n",
       "  <thead>\n",
       "    <tr style=\"text-align: right;\">\n",
       "      <th></th>\n",
       "      <th>a</th>\n",
       "      <th>b</th>\n",
       "      <th>c</th>\n",
       "      <th>d</th>\n",
       "      <th>e</th>\n",
       "      <th>say</th>\n",
       "    </tr>\n",
       "  </thead>\n",
       "  <tbody>\n",
       "    <tr>\n",
       "      <th>0</th>\n",
       "      <td>1</td>\n",
       "      <td>2</td>\n",
       "      <td>3</td>\n",
       "      <td>4</td>\n",
       "      <td>5</td>\n",
       "      <td>좋아</td>\n",
       "    </tr>\n",
       "    <tr>\n",
       "      <th>1</th>\n",
       "      <td>6</td>\n",
       "      <td>1</td>\n",
       "      <td>2</td>\n",
       "      <td>3</td>\n",
       "      <td>4</td>\n",
       "      <td>싫어</td>\n",
       "    </tr>\n",
       "    <tr>\n",
       "      <th>2</th>\n",
       "      <td>7</td>\n",
       "      <td>8</td>\n",
       "      <td>9</td>\n",
       "      <td>0</td>\n",
       "      <td>9</td>\n",
       "      <td>싫어</td>\n",
       "    </tr>\n",
       "    <tr>\n",
       "      <th>3</th>\n",
       "      <td>4</td>\n",
       "      <td>5</td>\n",
       "      <td>6</td>\n",
       "      <td>7</td>\n",
       "      <td>8</td>\n",
       "      <td>싫어</td>\n",
       "    </tr>\n",
       "    <tr>\n",
       "      <th>4</th>\n",
       "      <td>11</td>\n",
       "      <td>13</td>\n",
       "      <td>8</td>\n",
       "      <td>5</td>\n",
       "      <td>5</td>\n",
       "      <td>싫어</td>\n",
       "    </tr>\n",
       "  </tbody>\n",
       "</table>\n",
       "</div>"
      ],
      "text/plain": [
       "    a   b  c  d  e say\n",
       "0   1   2  3  4  5  좋아\n",
       "1   6   1  2  3  4  싫어\n",
       "2   7   8  9  0  9  싫어\n",
       "3   4   5  6  7  8  싫어\n",
       "4  11  13  8  5  5  싫어"
      ]
     },
     "execution_count": 8,
     "metadata": {},
     "output_type": "execute_result"
    }
   ],
   "source": [
    "financial = pd.read_csv(\"/tmp/example.csv\")\n",
    "add_col = ['좋아', '싫어', '싫어','싫어', '싫어']\n",
    "financial['say'] = add_col\n",
    "financial"
   ]
  },
  {
   "cell_type": "code",
   "execution_count": 9,
   "metadata": {
    "colab": {
     "base_uri": "https://localhost:8080/",
     "height": 677
    },
    "collapsed": true,
    "executionInfo": {
     "elapsed": 73,
     "status": "ok",
     "timestamp": 1630977465305,
     "user": {
      "displayName": "김성국",
      "photoUrl": "https://lh3.googleusercontent.com/a/default-user=s64",
      "userId": "14454204284131910272"
     },
     "user_tz": -540
    },
    "id": "EhEqvQ9owCOu",
    "jupyter": {
     "outputs_hidden": true
    },
    "outputId": "04bc6482-fb10-478e-bee9-bd56f9774642"
   },
   "outputs": [
    {
     "name": "stdout",
     "output_type": "stream",
     "text": [
      "싫어    4\n",
      "좋아    1\n",
      "Name: say, dtype: int64\n"
     ]
    },
    {
     "name": "stderr",
     "output_type": "stream",
     "text": [
      "/usr/local/lib/python3.7/dist-packages/seaborn/_decorators.py:43: FutureWarning: Pass the following variable as a keyword arg: x. From version 0.12, the only valid positional argument will be `data`, and passing other arguments without an explicit keyword will result in an error or misinterpretation.\n",
      "  FutureWarning\n"
     ]
    },
    {
     "data": {
      "text/plain": [
       "<matplotlib.axes._subplots.AxesSubplot at 0x7f71a42d6390>"
      ]
     },
     "execution_count": 9,
     "metadata": {},
     "output_type": "execute_result"
    },
    {
     "name": "stderr",
     "output_type": "stream",
     "text": [
      "/usr/local/lib/python3.7/dist-packages/matplotlib/backends/backend_agg.py:214: RuntimeWarning: Glyph 51339 missing from current font.\n",
      "  font.set_text(s, 0.0, flags=flags)\n",
      "/usr/local/lib/python3.7/dist-packages/matplotlib/backends/backend_agg.py:214: RuntimeWarning: Glyph 50500 missing from current font.\n",
      "  font.set_text(s, 0.0, flags=flags)\n",
      "/usr/local/lib/python3.7/dist-packages/matplotlib/backends/backend_agg.py:214: RuntimeWarning: Glyph 49899 missing from current font.\n",
      "  font.set_text(s, 0.0, flags=flags)\n",
      "/usr/local/lib/python3.7/dist-packages/matplotlib/backends/backend_agg.py:214: RuntimeWarning: Glyph 50612 missing from current font.\n",
      "  font.set_text(s, 0.0, flags=flags)\n",
      "/usr/local/lib/python3.7/dist-packages/matplotlib/backends/backend_agg.py:183: RuntimeWarning: Glyph 51339 missing from current font.\n",
      "  font.set_text(s, 0, flags=flags)\n",
      "/usr/local/lib/python3.7/dist-packages/matplotlib/backends/backend_agg.py:183: RuntimeWarning: Glyph 50500 missing from current font.\n",
      "  font.set_text(s, 0, flags=flags)\n",
      "/usr/local/lib/python3.7/dist-packages/matplotlib/backends/backend_agg.py:183: RuntimeWarning: Glyph 49899 missing from current font.\n",
      "  font.set_text(s, 0, flags=flags)\n",
      "/usr/local/lib/python3.7/dist-packages/matplotlib/backends/backend_agg.py:183: RuntimeWarning: Glyph 50612 missing from current font.\n",
      "  font.set_text(s, 0, flags=flags)\n"
     ]
    },
    {
     "data": {
      "image/png": "[encoded data removed]",
      "text/plain": [
       "<Figure size 432x288 with 1 Axes>"
      ]
     },
     "metadata": {
      "needs_background": "light"
     },
     "output_type": "display_data"
    }
   ],
   "source": [
    "print(financial[\"say\"].value_counts())\n",
    "sns.countplot(financial[\"say\"])"
   ]
  },
  {
   "cell_type": "markdown",
   "metadata": {
    "id": "fO-I6_YVrHus"
   },
   "source": [
    "## Data 를 가공하기"
   ]
  },
  {
   "cell_type": "markdown",
   "metadata": {
    "id": "GTE_0aPEe963"
   },
   "source": [
    "### 특정조건으로 데이터를 정렬하기"
   ]
  },
  {
   "cell_type": "code",
   "execution_count": 10,
   "metadata": {
    "colab": {
     "base_uri": "https://localhost:8080/",
     "height": 204
    },
    "executionInfo": {
     "elapsed": 49,
     "status": "ok",
     "timestamp": 1630977465309,
     "user": {
      "displayName": "김성국",
      "photoUrl": "https://lh3.googleusercontent.com/a/default-user=s64",
      "userId": "14454204284131910272"
     },
     "user_tz": -540
    },
    "id": "of6NQTGId7ed",
    "outputId": "eceee7c7-0f99-4b51-dd22-b18518358523"
   },
   "outputs": [
    {
     "data": {
      "text/html": [
       "<div>\n",
       "<style scoped>\n",
       "    .dataframe tbody tr th:only-of-type {\n",
       "        vertical-align: middle;\n",
       "    }\n",
       "\n",
       "    .dataframe tbody tr th {\n",
       "        vertical-align: top;\n",
       "    }\n",
       "\n",
       "    .dataframe thead th {\n",
       "        text-align: right;\n",
       "    }\n",
       "</style>\n",
       "<table border=\"1\" class=\"dataframe\">\n",
       "  <thead>\n",
       "    <tr style=\"text-align: right;\">\n",
       "      <th></th>\n",
       "      <th>a</th>\n",
       "      <th>b</th>\n",
       "      <th>c</th>\n",
       "      <th>d</th>\n",
       "      <th>e</th>\n",
       "    </tr>\n",
       "  </thead>\n",
       "  <tbody>\n",
       "    <tr>\n",
       "      <th>2</th>\n",
       "      <td>7</td>\n",
       "      <td>8</td>\n",
       "      <td>9</td>\n",
       "      <td>0</td>\n",
       "      <td>9</td>\n",
       "    </tr>\n",
       "    <tr>\n",
       "      <th>1</th>\n",
       "      <td>6</td>\n",
       "      <td>1</td>\n",
       "      <td>2</td>\n",
       "      <td>3</td>\n",
       "      <td>4</td>\n",
       "    </tr>\n",
       "    <tr>\n",
       "      <th>0</th>\n",
       "      <td>1</td>\n",
       "      <td>2</td>\n",
       "      <td>3</td>\n",
       "      <td>4</td>\n",
       "      <td>5</td>\n",
       "    </tr>\n",
       "    <tr>\n",
       "      <th>4</th>\n",
       "      <td>11</td>\n",
       "      <td>13</td>\n",
       "      <td>8</td>\n",
       "      <td>5</td>\n",
       "      <td>5</td>\n",
       "    </tr>\n",
       "    <tr>\n",
       "      <th>3</th>\n",
       "      <td>4</td>\n",
       "      <td>5</td>\n",
       "      <td>6</td>\n",
       "      <td>7</td>\n",
       "      <td>8</td>\n",
       "    </tr>\n",
       "  </tbody>\n",
       "</table>\n",
       "</div>"
      ],
      "text/plain": [
       "    a   b  c  d  e\n",
       "2   7   8  9  0  9\n",
       "1   6   1  2  3  4\n",
       "0   1   2  3  4  5\n",
       "4  11  13  8  5  5\n",
       "3   4   5  6  7  8"
      ]
     },
     "execution_count": 10,
     "metadata": {},
     "output_type": "execute_result"
    }
   ],
   "source": [
    "df.sort_values(by=[\"d\"])"
   ]
  },
  {
   "cell_type": "markdown",
   "metadata": {
    "id": "KAZEkmf-fCVZ"
   },
   "source": [
    "### DROP 을 통해 데이터 없애기\n",
    "inplace 옵션을 True 를 주면 자체 데이터에 바로 영향을 주고 False 를 하게 되면 해당 데이터에는 영향을 미치지 않는다.<BR>\n",
    "(False 로 하고 다른 Dataframe 에 담는 것을 추천한다.)"
   ]
  },
  {
   "cell_type": "code",
   "execution_count": 11,
   "metadata": {
    "colab": {
     "base_uri": "https://localhost:8080/",
     "height": 204
    },
    "executionInfo": {
     "elapsed": 48,
     "status": "ok",
     "timestamp": 1630977465311,
     "user": {
      "displayName": "김성국",
      "photoUrl": "https://lh3.googleusercontent.com/a/default-user=s64",
      "userId": "14454204284131910272"
     },
     "user_tz": -540
    },
    "id": "6sG0w4xueZwM",
    "outputId": "ce8680e9-2692-4d79-860b-96b18a5e7959"
   },
   "outputs": [
    {
     "data": {
      "text/html": [
       "<div>\n",
       "<style scoped>\n",
       "    .dataframe tbody tr th:only-of-type {\n",
       "        vertical-align: middle;\n",
       "    }\n",
       "\n",
       "    .dataframe tbody tr th {\n",
       "        vertical-align: top;\n",
       "    }\n",
       "\n",
       "    .dataframe thead th {\n",
       "        text-align: right;\n",
       "    }\n",
       "</style>\n",
       "<table border=\"1\" class=\"dataframe\">\n",
       "  <thead>\n",
       "    <tr style=\"text-align: right;\">\n",
       "      <th></th>\n",
       "      <th>a</th>\n",
       "      <th>b</th>\n",
       "      <th>c</th>\n",
       "      <th>d</th>\n",
       "    </tr>\n",
       "  </thead>\n",
       "  <tbody>\n",
       "    <tr>\n",
       "      <th>0</th>\n",
       "      <td>1</td>\n",
       "      <td>2</td>\n",
       "      <td>3</td>\n",
       "      <td>4</td>\n",
       "    </tr>\n",
       "    <tr>\n",
       "      <th>1</th>\n",
       "      <td>6</td>\n",
       "      <td>1</td>\n",
       "      <td>2</td>\n",
       "      <td>3</td>\n",
       "    </tr>\n",
       "    <tr>\n",
       "      <th>2</th>\n",
       "      <td>7</td>\n",
       "      <td>8</td>\n",
       "      <td>9</td>\n",
       "      <td>0</td>\n",
       "    </tr>\n",
       "    <tr>\n",
       "      <th>3</th>\n",
       "      <td>4</td>\n",
       "      <td>5</td>\n",
       "      <td>6</td>\n",
       "      <td>7</td>\n",
       "    </tr>\n",
       "    <tr>\n",
       "      <th>4</th>\n",
       "      <td>11</td>\n",
       "      <td>13</td>\n",
       "      <td>8</td>\n",
       "      <td>5</td>\n",
       "    </tr>\n",
       "  </tbody>\n",
       "</table>\n",
       "</div>"
      ],
      "text/plain": [
       "    a   b  c  d\n",
       "0   1   2  3  4\n",
       "1   6   1  2  3\n",
       "2   7   8  9  0\n",
       "3   4   5  6  7\n",
       "4  11  13  8  5"
      ]
     },
     "execution_count": 11,
     "metadata": {},
     "output_type": "execute_result"
    }
   ],
   "source": [
    "drop_df = df.drop(['e'], axis=1, inplace=False)\n",
    "drop_df"
   ]
  },
  {
   "cell_type": "markdown",
   "metadata": {
    "id": "sQ2D8hHyEDHA"
   },
   "source": [
    "### 열 추가하기"
   ]
  },
  {
   "cell_type": "code",
   "execution_count": 12,
   "metadata": {
    "colab": {
     "base_uri": "https://localhost:8080/",
     "height": 204
    },
    "executionInfo": {
     "elapsed": 47,
     "status": "ok",
     "timestamp": 1630977465312,
     "user": {
      "displayName": "김성국",
      "photoUrl": "https://lh3.googleusercontent.com/a/default-user=s64",
      "userId": "14454204284131910272"
     },
     "user_tz": -540
    },
    "id": "iZiQkfFtEDBN",
    "outputId": "f7c42de4-7db3-4f07-832c-c864613b2ec2"
   },
   "outputs": [
    {
     "data": {
      "text/html": [
       "<div>\n",
       "<style scoped>\n",
       "    .dataframe tbody tr th:only-of-type {\n",
       "        vertical-align: middle;\n",
       "    }\n",
       "\n",
       "    .dataframe tbody tr th {\n",
       "        vertical-align: top;\n",
       "    }\n",
       "\n",
       "    .dataframe thead th {\n",
       "        text-align: right;\n",
       "    }\n",
       "</style>\n",
       "<table border=\"1\" class=\"dataframe\">\n",
       "  <thead>\n",
       "    <tr style=\"text-align: right;\">\n",
       "      <th></th>\n",
       "      <th>a</th>\n",
       "      <th>b</th>\n",
       "      <th>c</th>\n",
       "      <th>d</th>\n",
       "      <th>e</th>\n",
       "      <th>say</th>\n",
       "    </tr>\n",
       "  </thead>\n",
       "  <tbody>\n",
       "    <tr>\n",
       "      <th>0</th>\n",
       "      <td>1</td>\n",
       "      <td>2</td>\n",
       "      <td>3</td>\n",
       "      <td>4</td>\n",
       "      <td>5</td>\n",
       "      <td>좋아</td>\n",
       "    </tr>\n",
       "    <tr>\n",
       "      <th>1</th>\n",
       "      <td>6</td>\n",
       "      <td>1</td>\n",
       "      <td>2</td>\n",
       "      <td>3</td>\n",
       "      <td>4</td>\n",
       "      <td>가는</td>\n",
       "    </tr>\n",
       "    <tr>\n",
       "      <th>2</th>\n",
       "      <td>7</td>\n",
       "      <td>8</td>\n",
       "      <td>9</td>\n",
       "      <td>0</td>\n",
       "      <td>9</td>\n",
       "      <td>거야</td>\n",
       "    </tr>\n",
       "    <tr>\n",
       "      <th>3</th>\n",
       "      <td>4</td>\n",
       "      <td>5</td>\n",
       "      <td>6</td>\n",
       "      <td>7</td>\n",
       "      <td>8</td>\n",
       "      <td>신나</td>\n",
       "    </tr>\n",
       "    <tr>\n",
       "      <th>4</th>\n",
       "      <td>11</td>\n",
       "      <td>13</td>\n",
       "      <td>8</td>\n",
       "      <td>5</td>\n",
       "      <td>5</td>\n",
       "      <td>좋아</td>\n",
       "    </tr>\n",
       "  </tbody>\n",
       "</table>\n",
       "</div>"
      ],
      "text/plain": [
       "    a   b  c  d  e say\n",
       "0   1   2  3  4  5  좋아\n",
       "1   6   1  2  3  4  가는\n",
       "2   7   8  9  0  9  거야\n",
       "3   4   5  6  7  8  신나\n",
       "4  11  13  8  5  5  좋아"
      ]
     },
     "execution_count": 12,
     "metadata": {},
     "output_type": "execute_result"
    }
   ],
   "source": [
    "add_col = ['좋아', '가는', '거야','신나', '좋아']\n",
    "df['say'] = add_col\n",
    "df"
   ]
  },
  {
   "cell_type": "markdown",
   "metadata": {
    "id": "1qr6ngkoGHnr"
   },
   "source": [
    "### 행 추가하기"
   ]
  },
  {
   "cell_type": "markdown",
   "metadata": {
    "id": "N70T8KplH6JU"
   },
   "source": [
    "append 를 이용한 행 데이터 추가<BR>\n",
    "(Index 가 간혹 int 형태로 들어가서 깨지는 경우가 있다.)"
   ]
  },
  {
   "cell_type": "code",
   "execution_count": 13,
   "metadata": {
    "colab": {
     "base_uri": "https://localhost:8080/",
     "height": 235
    },
    "executionInfo": {
     "elapsed": 47,
     "status": "ok",
     "timestamp": 1630977465314,
     "user": {
      "displayName": "김성국",
      "photoUrl": "https://lh3.googleusercontent.com/a/default-user=s64",
      "userId": "14454204284131910272"
     },
     "user_tz": -540
    },
    "id": "FE5bsyNeGIND",
    "outputId": "77ccbef6-0abc-4922-b201-d9cca481d1e3"
   },
   "outputs": [
    {
     "data": {
      "text/html": [
       "<div>\n",
       "<style scoped>\n",
       "    .dataframe tbody tr th:only-of-type {\n",
       "        vertical-align: middle;\n",
       "    }\n",
       "\n",
       "    .dataframe tbody tr th {\n",
       "        vertical-align: top;\n",
       "    }\n",
       "\n",
       "    .dataframe thead th {\n",
       "        text-align: right;\n",
       "    }\n",
       "</style>\n",
       "<table border=\"1\" class=\"dataframe\">\n",
       "  <thead>\n",
       "    <tr style=\"text-align: right;\">\n",
       "      <th></th>\n",
       "      <th>a</th>\n",
       "      <th>b</th>\n",
       "      <th>c</th>\n",
       "      <th>d</th>\n",
       "      <th>e</th>\n",
       "      <th>say</th>\n",
       "    </tr>\n",
       "  </thead>\n",
       "  <tbody>\n",
       "    <tr>\n",
       "      <th>0</th>\n",
       "      <td>1</td>\n",
       "      <td>2</td>\n",
       "      <td>3</td>\n",
       "      <td>4</td>\n",
       "      <td>5</td>\n",
       "      <td>좋아</td>\n",
       "    </tr>\n",
       "    <tr>\n",
       "      <th>1</th>\n",
       "      <td>6</td>\n",
       "      <td>1</td>\n",
       "      <td>2</td>\n",
       "      <td>3</td>\n",
       "      <td>4</td>\n",
       "      <td>가는</td>\n",
       "    </tr>\n",
       "    <tr>\n",
       "      <th>2</th>\n",
       "      <td>7</td>\n",
       "      <td>8</td>\n",
       "      <td>9</td>\n",
       "      <td>0</td>\n",
       "      <td>9</td>\n",
       "      <td>거야</td>\n",
       "    </tr>\n",
       "    <tr>\n",
       "      <th>3</th>\n",
       "      <td>4</td>\n",
       "      <td>5</td>\n",
       "      <td>6</td>\n",
       "      <td>7</td>\n",
       "      <td>8</td>\n",
       "      <td>신나</td>\n",
       "    </tr>\n",
       "    <tr>\n",
       "      <th>4</th>\n",
       "      <td>11</td>\n",
       "      <td>13</td>\n",
       "      <td>8</td>\n",
       "      <td>5</td>\n",
       "      <td>5</td>\n",
       "      <td>좋아</td>\n",
       "    </tr>\n",
       "    <tr>\n",
       "      <th>5</th>\n",
       "      <td>2</td>\n",
       "      <td>3</td>\n",
       "      <td>4</td>\n",
       "      <td>8</td>\n",
       "      <td>3</td>\n",
       "      <td>슬퍼</td>\n",
       "    </tr>\n",
       "  </tbody>\n",
       "</table>\n",
       "</div>"
      ],
      "text/plain": [
       "    a   b  c  d  e say\n",
       "0   1   2  3  4  5  좋아\n",
       "1   6   1  2  3  4  가는\n",
       "2   7   8  9  0  9  거야\n",
       "3   4   5  6  7  8  신나\n",
       "4  11  13  8  5  5  좋아\n",
       "5   2   3  4  8  3  슬퍼"
      ]
     },
     "execution_count": 13,
     "metadata": {},
     "output_type": "execute_result"
    }
   ],
   "source": [
    "new_data = {'a':2, 'b' : 3, 'c' : 4, 'd' : 8, 'e' : 3, 'say' : '슬퍼'}\n",
    "ef = df.append(new_data, ignore_index=True)\n",
    "ef"
   ]
  },
  {
   "cell_type": "markdown",
   "metadata": {
    "id": "ysTxldJyIoiQ"
   },
   "source": [
    "아예 index를 지정한 데이터를 추가하는 방법이 있다.<BR>\n",
    "(중복되는 index가 생겨날 수 있으니 주의해야 한다.)"
   ]
  },
  {
   "cell_type": "code",
   "execution_count": 14,
   "metadata": {
    "colab": {
     "base_uri": "https://localhost:8080/",
     "height": 235
    },
    "executionInfo": {
     "elapsed": 46,
     "status": "ok",
     "timestamp": 1630977465316,
     "user": {
      "displayName": "김성국",
      "photoUrl": "https://lh3.googleusercontent.com/a/default-user=s64",
      "userId": "14454204284131910272"
     },
     "user_tz": -540
    },
    "id": "QFY4sDQfIoc1",
    "outputId": "0eff8f87-1d86-415c-a5d6-8b1f82c85577"
   },
   "outputs": [
    {
     "data": {
      "text/html": [
       "<div>\n",
       "<style scoped>\n",
       "    .dataframe tbody tr th:only-of-type {\n",
       "        vertical-align: middle;\n",
       "    }\n",
       "\n",
       "    .dataframe tbody tr th {\n",
       "        vertical-align: top;\n",
       "    }\n",
       "\n",
       "    .dataframe thead th {\n",
       "        text-align: right;\n",
       "    }\n",
       "</style>\n",
       "<table border=\"1\" class=\"dataframe\">\n",
       "  <thead>\n",
       "    <tr style=\"text-align: right;\">\n",
       "      <th></th>\n",
       "      <th>a</th>\n",
       "      <th>b</th>\n",
       "      <th>c</th>\n",
       "      <th>d</th>\n",
       "      <th>e</th>\n",
       "      <th>say</th>\n",
       "    </tr>\n",
       "  </thead>\n",
       "  <tbody>\n",
       "    <tr>\n",
       "      <th>0</th>\n",
       "      <td>1</td>\n",
       "      <td>2</td>\n",
       "      <td>3</td>\n",
       "      <td>4</td>\n",
       "      <td>5</td>\n",
       "      <td>좋아</td>\n",
       "    </tr>\n",
       "    <tr>\n",
       "      <th>1</th>\n",
       "      <td>6</td>\n",
       "      <td>1</td>\n",
       "      <td>2</td>\n",
       "      <td>3</td>\n",
       "      <td>4</td>\n",
       "      <td>가는</td>\n",
       "    </tr>\n",
       "    <tr>\n",
       "      <th>2</th>\n",
       "      <td>7</td>\n",
       "      <td>8</td>\n",
       "      <td>9</td>\n",
       "      <td>0</td>\n",
       "      <td>9</td>\n",
       "      <td>거야</td>\n",
       "    </tr>\n",
       "    <tr>\n",
       "      <th>3</th>\n",
       "      <td>4</td>\n",
       "      <td>5</td>\n",
       "      <td>6</td>\n",
       "      <td>7</td>\n",
       "      <td>8</td>\n",
       "      <td>신나</td>\n",
       "    </tr>\n",
       "    <tr>\n",
       "      <th>4</th>\n",
       "      <td>11</td>\n",
       "      <td>13</td>\n",
       "      <td>8</td>\n",
       "      <td>5</td>\n",
       "      <td>5</td>\n",
       "      <td>좋아</td>\n",
       "    </tr>\n",
       "    <tr>\n",
       "      <th>5</th>\n",
       "      <td>4</td>\n",
       "      <td>5</td>\n",
       "      <td>3</td>\n",
       "      <td>4</td>\n",
       "      <td>2</td>\n",
       "      <td>슬퍼</td>\n",
       "    </tr>\n",
       "  </tbody>\n",
       "</table>\n",
       "</div>"
      ],
      "text/plain": [
       "    a   b  c  d  e say\n",
       "0   1   2  3  4  5  좋아\n",
       "1   6   1  2  3  4  가는\n",
       "2   7   8  9  0  9  거야\n",
       "3   4   5  6  7  8  신나\n",
       "4  11  13  8  5  5  좋아\n",
       "5   4   5  3  4  2  슬퍼"
      ]
     },
     "execution_count": 14,
     "metadata": {},
     "output_type": "execute_result"
    }
   ],
   "source": [
    "ihave = [(4,5,3,4,2,'슬퍼')]\n",
    "new_data = pd.DataFrame(ihave, columns=df.columns, index=[5])\n",
    "ef = df.append(new_data)\n",
    "ef"
   ]
  },
  {
   "cell_type": "markdown",
   "metadata": {
    "id": "iGTQQg9IIEWE"
   },
   "source": [
    "loc 을 이용한 추가<BR>\n",
    "(Index 를 내가 지정하기 때문에 위와 마찬가지로 깨지지 않게 해줄 수 있다. 다만, 원래 존재하는 키를 지정하는 경우 업데이트가 되므로 주의가 필요하다.)"
   ]
  },
  {
   "cell_type": "code",
   "execution_count": 15,
   "metadata": {
    "colab": {
     "base_uri": "https://localhost:8080/",
     "height": 235
    },
    "executionInfo": {
     "elapsed": 45,
     "status": "ok",
     "timestamp": 1630977465317,
     "user": {
      "displayName": "김성국",
      "photoUrl": "https://lh3.googleusercontent.com/a/default-user=s64",
      "userId": "14454204284131910272"
     },
     "user_tz": -540
    },
    "id": "tpn4nYsVID8v",
    "outputId": "aa84878e-533d-4504-b932-c79686af0235"
   },
   "outputs": [
    {
     "data": {
      "text/html": [
       "<div>\n",
       "<style scoped>\n",
       "    .dataframe tbody tr th:only-of-type {\n",
       "        vertical-align: middle;\n",
       "    }\n",
       "\n",
       "    .dataframe tbody tr th {\n",
       "        vertical-align: top;\n",
       "    }\n",
       "\n",
       "    .dataframe thead th {\n",
       "        text-align: right;\n",
       "    }\n",
       "</style>\n",
       "<table border=\"1\" class=\"dataframe\">\n",
       "  <thead>\n",
       "    <tr style=\"text-align: right;\">\n",
       "      <th></th>\n",
       "      <th>a</th>\n",
       "      <th>b</th>\n",
       "      <th>c</th>\n",
       "      <th>d</th>\n",
       "      <th>e</th>\n",
       "      <th>say</th>\n",
       "    </tr>\n",
       "  </thead>\n",
       "  <tbody>\n",
       "    <tr>\n",
       "      <th>0</th>\n",
       "      <td>1</td>\n",
       "      <td>2</td>\n",
       "      <td>3</td>\n",
       "      <td>4</td>\n",
       "      <td>5</td>\n",
       "      <td>좋아</td>\n",
       "    </tr>\n",
       "    <tr>\n",
       "      <th>1</th>\n",
       "      <td>6</td>\n",
       "      <td>1</td>\n",
       "      <td>2</td>\n",
       "      <td>3</td>\n",
       "      <td>4</td>\n",
       "      <td>가는</td>\n",
       "    </tr>\n",
       "    <tr>\n",
       "      <th>2</th>\n",
       "      <td>7</td>\n",
       "      <td>8</td>\n",
       "      <td>9</td>\n",
       "      <td>0</td>\n",
       "      <td>9</td>\n",
       "      <td>거야</td>\n",
       "    </tr>\n",
       "    <tr>\n",
       "      <th>3</th>\n",
       "      <td>4</td>\n",
       "      <td>5</td>\n",
       "      <td>6</td>\n",
       "      <td>7</td>\n",
       "      <td>8</td>\n",
       "      <td>신나</td>\n",
       "    </tr>\n",
       "    <tr>\n",
       "      <th>4</th>\n",
       "      <td>11</td>\n",
       "      <td>13</td>\n",
       "      <td>8</td>\n",
       "      <td>5</td>\n",
       "      <td>5</td>\n",
       "      <td>좋아</td>\n",
       "    </tr>\n",
       "    <tr>\n",
       "      <th>8</th>\n",
       "      <td>2</td>\n",
       "      <td>3</td>\n",
       "      <td>4</td>\n",
       "      <td>8</td>\n",
       "      <td>3</td>\n",
       "      <td>이나</td>\n",
       "    </tr>\n",
       "  </tbody>\n",
       "</table>\n",
       "</div>"
      ],
      "text/plain": [
       "    a   b  c  d  e say\n",
       "0   1   2  3  4  5  좋아\n",
       "1   6   1  2  3  4  가는\n",
       "2   7   8  9  0  9  거야\n",
       "3   4   5  6  7  8  신나\n",
       "4  11  13  8  5  5  좋아\n",
       "8   2   3  4  8  3  이나"
      ]
     },
     "execution_count": 15,
     "metadata": {},
     "output_type": "execute_result"
    }
   ],
   "source": [
    "df.loc[8]=[2, 3, 4, 8, 3, '이나']\n",
    "df"
   ]
  },
  {
   "cell_type": "markdown",
   "metadata": {
    "id": "RSdtY6_Ch-JK"
   },
   "source": [
    "### Merge\n",
    "Merge 함수를 통해 DBMS 의 Join 과 같은 효과를 가져올 수 있다."
   ]
  },
  {
   "cell_type": "code",
   "execution_count": 16,
   "metadata": {
    "colab": {
     "base_uri": "https://localhost:8080/",
     "height": 142
    },
    "executionInfo": {
     "elapsed": 877,
     "status": "ok",
     "timestamp": 1630977466151,
     "user": {
      "displayName": "김성국",
      "photoUrl": "https://lh3.googleusercontent.com/a/default-user=s64",
      "userId": "14454204284131910272"
     },
     "user_tz": -540
    },
    "id": "mweFAJwNh-Ai",
    "outputId": "8d02d9a9-4035-40b9-b7fa-d2f04368f105"
   },
   "outputs": [
    {
     "data": {
      "text/html": [
       "<div>\n",
       "<style scoped>\n",
       "    .dataframe tbody tr th:only-of-type {\n",
       "        vertical-align: middle;\n",
       "    }\n",
       "\n",
       "    .dataframe tbody tr th {\n",
       "        vertical-align: top;\n",
       "    }\n",
       "\n",
       "    .dataframe thead th {\n",
       "        text-align: right;\n",
       "    }\n",
       "</style>\n",
       "<table border=\"1\" class=\"dataframe\">\n",
       "  <thead>\n",
       "    <tr style=\"text-align: right;\">\n",
       "      <th></th>\n",
       "      <th>이름</th>\n",
       "      <th>축구</th>\n",
       "      <th>농구</th>\n",
       "    </tr>\n",
       "  </thead>\n",
       "  <tbody>\n",
       "    <tr>\n",
       "      <th>0</th>\n",
       "      <td>a</td>\n",
       "      <td>잘함</td>\n",
       "      <td>잘함</td>\n",
       "    </tr>\n",
       "    <tr>\n",
       "      <th>1</th>\n",
       "      <td>b</td>\n",
       "      <td>잘함</td>\n",
       "      <td>못함</td>\n",
       "    </tr>\n",
       "    <tr>\n",
       "      <th>2</th>\n",
       "      <td>c</td>\n",
       "      <td>못함</td>\n",
       "      <td>잘함</td>\n",
       "    </tr>\n",
       "  </tbody>\n",
       "</table>\n",
       "</div>"
      ],
      "text/plain": [
       "  이름  축구  농구\n",
       "0  a  잘함  잘함\n",
       "1  b  잘함  못함\n",
       "2  c  못함  잘함"
      ]
     },
     "execution_count": 16,
     "metadata": {},
     "output_type": "execute_result"
    }
   ],
   "source": [
    "df1 = pd.DataFrame([[\"a\",\"잘함\",\"잘함\"],[\"b\",\"잘함\",\"못함\"],[\"c\",\"못함\",\"잘함\"]], columns = [\"이름\",\"축구\",\"농구\"])\n",
    "df1"
   ]
  },
  {
   "cell_type": "code",
   "execution_count": 17,
   "metadata": {
    "colab": {
     "base_uri": "https://localhost:8080/",
     "height": 142
    },
    "executionInfo": {
     "elapsed": 47,
     "status": "ok",
     "timestamp": 1630977466152,
     "user": {
      "displayName": "김성국",
      "photoUrl": "https://lh3.googleusercontent.com/a/default-user=s64",
      "userId": "14454204284131910272"
     },
     "user_tz": -540
    },
    "id": "j9SS7ZN8kYTK",
    "outputId": "0172dae6-b22b-4d3b-b34e-0b46dcac60f8"
   },
   "outputs": [
    {
     "data": {
      "text/html": [
       "<div>\n",
       "<style scoped>\n",
       "    .dataframe tbody tr th:only-of-type {\n",
       "        vertical-align: middle;\n",
       "    }\n",
       "\n",
       "    .dataframe tbody tr th {\n",
       "        vertical-align: top;\n",
       "    }\n",
       "\n",
       "    .dataframe thead th {\n",
       "        text-align: right;\n",
       "    }\n",
       "</style>\n",
       "<table border=\"1\" class=\"dataframe\">\n",
       "  <thead>\n",
       "    <tr style=\"text-align: right;\">\n",
       "      <th></th>\n",
       "      <th>이름</th>\n",
       "      <th>배구</th>\n",
       "    </tr>\n",
       "  </thead>\n",
       "  <tbody>\n",
       "    <tr>\n",
       "      <th>0</th>\n",
       "      <td>a</td>\n",
       "      <td>잘함</td>\n",
       "    </tr>\n",
       "    <tr>\n",
       "      <th>1</th>\n",
       "      <td>b</td>\n",
       "      <td>못함</td>\n",
       "    </tr>\n",
       "    <tr>\n",
       "      <th>2</th>\n",
       "      <td>d</td>\n",
       "      <td>잘함</td>\n",
       "    </tr>\n",
       "  </tbody>\n",
       "</table>\n",
       "</div>"
      ],
      "text/plain": [
       "  이름  배구\n",
       "0  a  잘함\n",
       "1  b  못함\n",
       "2  d  잘함"
      ]
     },
     "execution_count": 17,
     "metadata": {},
     "output_type": "execute_result"
    }
   ],
   "source": [
    "df2 = pd.DataFrame([[\"a\",\"잘함\"],[\"b\",\"못함\"],[\"d\",\"잘함\"]], columns = [\"이름\",\"배구\"])\n",
    "df2"
   ]
  },
  {
   "cell_type": "markdown",
   "metadata": {
    "id": "UMVVvfHzkyhy"
   },
   "source": [
    "#### Inner"
   ]
  },
  {
   "cell_type": "code",
   "execution_count": 18,
   "metadata": {
    "colab": {
     "base_uri": "https://localhost:8080/",
     "height": 111
    },
    "executionInfo": {
     "elapsed": 46,
     "status": "ok",
     "timestamp": 1630977466153,
     "user": {
      "displayName": "김성국",
      "photoUrl": "https://lh3.googleusercontent.com/a/default-user=s64",
      "userId": "14454204284131910272"
     },
     "user_tz": -540
    },
    "id": "d0H3EEs1kxwo",
    "outputId": "02f41b0e-82bb-4414-83f4-20960a88364e"
   },
   "outputs": [
    {
     "data": {
      "text/html": [
       "<div>\n",
       "<style scoped>\n",
       "    .dataframe tbody tr th:only-of-type {\n",
       "        vertical-align: middle;\n",
       "    }\n",
       "\n",
       "    .dataframe tbody tr th {\n",
       "        vertical-align: top;\n",
       "    }\n",
       "\n",
       "    .dataframe thead th {\n",
       "        text-align: right;\n",
       "    }\n",
       "</style>\n",
       "<table border=\"1\" class=\"dataframe\">\n",
       "  <thead>\n",
       "    <tr style=\"text-align: right;\">\n",
       "      <th></th>\n",
       "      <th>이름</th>\n",
       "      <th>축구</th>\n",
       "      <th>농구</th>\n",
       "      <th>배구</th>\n",
       "    </tr>\n",
       "  </thead>\n",
       "  <tbody>\n",
       "    <tr>\n",
       "      <th>0</th>\n",
       "      <td>a</td>\n",
       "      <td>잘함</td>\n",
       "      <td>잘함</td>\n",
       "      <td>잘함</td>\n",
       "    </tr>\n",
       "    <tr>\n",
       "      <th>1</th>\n",
       "      <td>b</td>\n",
       "      <td>잘함</td>\n",
       "      <td>못함</td>\n",
       "      <td>못함</td>\n",
       "    </tr>\n",
       "  </tbody>\n",
       "</table>\n",
       "</div>"
      ],
      "text/plain": [
       "  이름  축구  농구  배구\n",
       "0  a  잘함  잘함  잘함\n",
       "1  b  잘함  못함  못함"
      ]
     },
     "execution_count": 18,
     "metadata": {},
     "output_type": "execute_result"
    }
   ],
   "source": [
    "pd.merge( left = df1, right = df2, how = \"inner\", on = \"이름\")"
   ]
  },
  {
   "cell_type": "markdown",
   "metadata": {
    "id": "8E90B8pllD5e"
   },
   "source": [
    "#### Left"
   ]
  },
  {
   "cell_type": "code",
   "execution_count": 19,
   "metadata": {
    "colab": {
     "base_uri": "https://localhost:8080/",
     "height": 142
    },
    "executionInfo": {
     "elapsed": 45,
     "status": "ok",
     "timestamp": 1630977466154,
     "user": {
      "displayName": "김성국",
      "photoUrl": "https://lh3.googleusercontent.com/a/default-user=s64",
      "userId": "14454204284131910272"
     },
     "user_tz": -540
    },
    "id": "c4owpdBBlDzh",
    "outputId": "7bf8b59f-7c90-4694-92a6-98c4ffe20d97"
   },
   "outputs": [
    {
     "data": {
      "text/html": [
       "<div>\n",
       "<style scoped>\n",
       "    .dataframe tbody tr th:only-of-type {\n",
       "        vertical-align: middle;\n",
       "    }\n",
       "\n",
       "    .dataframe tbody tr th {\n",
       "        vertical-align: top;\n",
       "    }\n",
       "\n",
       "    .dataframe thead th {\n",
       "        text-align: right;\n",
       "    }\n",
       "</style>\n",
       "<table border=\"1\" class=\"dataframe\">\n",
       "  <thead>\n",
       "    <tr style=\"text-align: right;\">\n",
       "      <th></th>\n",
       "      <th>이름</th>\n",
       "      <th>축구</th>\n",
       "      <th>농구</th>\n",
       "      <th>배구</th>\n",
       "    </tr>\n",
       "  </thead>\n",
       "  <tbody>\n",
       "    <tr>\n",
       "      <th>0</th>\n",
       "      <td>a</td>\n",
       "      <td>잘함</td>\n",
       "      <td>잘함</td>\n",
       "      <td>잘함</td>\n",
       "    </tr>\n",
       "    <tr>\n",
       "      <th>1</th>\n",
       "      <td>b</td>\n",
       "      <td>잘함</td>\n",
       "      <td>못함</td>\n",
       "      <td>못함</td>\n",
       "    </tr>\n",
       "    <tr>\n",
       "      <th>2</th>\n",
       "      <td>c</td>\n",
       "      <td>못함</td>\n",
       "      <td>잘함</td>\n",
       "      <td>NaN</td>\n",
       "    </tr>\n",
       "  </tbody>\n",
       "</table>\n",
       "</div>"
      ],
      "text/plain": [
       "  이름  축구  농구   배구\n",
       "0  a  잘함  잘함   잘함\n",
       "1  b  잘함  못함   못함\n",
       "2  c  못함  잘함  NaN"
      ]
     },
     "execution_count": 19,
     "metadata": {},
     "output_type": "execute_result"
    }
   ],
   "source": [
    "pd.merge(left = df1, right = df2, how = \"left\", on = \"이름\")"
   ]
  },
  {
   "cell_type": "markdown",
   "metadata": {
    "id": "04TPqOSAlQr8"
   },
   "source": [
    "#### Right"
   ]
  },
  {
   "cell_type": "code",
   "execution_count": 20,
   "metadata": {
    "colab": {
     "base_uri": "https://localhost:8080/",
     "height": 142
    },
    "executionInfo": {
     "elapsed": 45,
     "status": "ok",
     "timestamp": 1630977466155,
     "user": {
      "displayName": "김성국",
      "photoUrl": "https://lh3.googleusercontent.com/a/default-user=s64",
      "userId": "14454204284131910272"
     },
     "user_tz": -540
    },
    "id": "zshmtiDilQia",
    "outputId": "7790dd3e-6a9b-4708-df4f-6eab9feac5f1"
   },
   "outputs": [
    {
     "data": {
      "text/html": [
       "<div>\n",
       "<style scoped>\n",
       "    .dataframe tbody tr th:only-of-type {\n",
       "        vertical-align: middle;\n",
       "    }\n",
       "\n",
       "    .dataframe tbody tr th {\n",
       "        vertical-align: top;\n",
       "    }\n",
       "\n",
       "    .dataframe thead th {\n",
       "        text-align: right;\n",
       "    }\n",
       "</style>\n",
       "<table border=\"1\" class=\"dataframe\">\n",
       "  <thead>\n",
       "    <tr style=\"text-align: right;\">\n",
       "      <th></th>\n",
       "      <th>이름</th>\n",
       "      <th>축구</th>\n",
       "      <th>농구</th>\n",
       "      <th>배구</th>\n",
       "    </tr>\n",
       "  </thead>\n",
       "  <tbody>\n",
       "    <tr>\n",
       "      <th>0</th>\n",
       "      <td>a</td>\n",
       "      <td>잘함</td>\n",
       "      <td>잘함</td>\n",
       "      <td>잘함</td>\n",
       "    </tr>\n",
       "    <tr>\n",
       "      <th>1</th>\n",
       "      <td>b</td>\n",
       "      <td>잘함</td>\n",
       "      <td>못함</td>\n",
       "      <td>못함</td>\n",
       "    </tr>\n",
       "    <tr>\n",
       "      <th>2</th>\n",
       "      <td>d</td>\n",
       "      <td>NaN</td>\n",
       "      <td>NaN</td>\n",
       "      <td>잘함</td>\n",
       "    </tr>\n",
       "  </tbody>\n",
       "</table>\n",
       "</div>"
      ],
      "text/plain": [
       "  이름   축구   농구  배구\n",
       "0  a   잘함   잘함  잘함\n",
       "1  b   잘함   못함  못함\n",
       "2  d  NaN  NaN  잘함"
      ]
     },
     "execution_count": 20,
     "metadata": {},
     "output_type": "execute_result"
    }
   ],
   "source": [
    "pd.merge(left = df1, right = df2, how = \"right\", on = \"이름\")"
   ]
  },
  {
   "cell_type": "markdown",
   "metadata": {
    "id": "hLJbmWCqlq3V"
   },
   "source": [
    "#### Outer"
   ]
  },
  {
   "cell_type": "code",
   "execution_count": 21,
   "metadata": {
    "colab": {
     "base_uri": "https://localhost:8080/",
     "height": 173
    },
    "executionInfo": {
     "elapsed": 46,
     "status": "ok",
     "timestamp": 1630977466156,
     "user": {
      "displayName": "김성국",
      "photoUrl": "https://lh3.googleusercontent.com/a/default-user=s64",
      "userId": "14454204284131910272"
     },
     "user_tz": -540
    },
    "id": "ZCpd92-klqu5",
    "outputId": "5f2eb021-5f09-4acd-e27f-f0316b80fe74"
   },
   "outputs": [
    {
     "data": {
      "text/html": [
       "<div>\n",
       "<style scoped>\n",
       "    .dataframe tbody tr th:only-of-type {\n",
       "        vertical-align: middle;\n",
       "    }\n",
       "\n",
       "    .dataframe tbody tr th {\n",
       "        vertical-align: top;\n",
       "    }\n",
       "\n",
       "    .dataframe thead th {\n",
       "        text-align: right;\n",
       "    }\n",
       "</style>\n",
       "<table border=\"1\" class=\"dataframe\">\n",
       "  <thead>\n",
       "    <tr style=\"text-align: right;\">\n",
       "      <th></th>\n",
       "      <th>이름</th>\n",
       "      <th>축구</th>\n",
       "      <th>농구</th>\n",
       "      <th>배구</th>\n",
       "    </tr>\n",
       "  </thead>\n",
       "  <tbody>\n",
       "    <tr>\n",
       "      <th>0</th>\n",
       "      <td>a</td>\n",
       "      <td>잘함</td>\n",
       "      <td>잘함</td>\n",
       "      <td>잘함</td>\n",
       "    </tr>\n",
       "    <tr>\n",
       "      <th>1</th>\n",
       "      <td>b</td>\n",
       "      <td>잘함</td>\n",
       "      <td>못함</td>\n",
       "      <td>못함</td>\n",
       "    </tr>\n",
       "    <tr>\n",
       "      <th>2</th>\n",
       "      <td>c</td>\n",
       "      <td>못함</td>\n",
       "      <td>잘함</td>\n",
       "      <td>NaN</td>\n",
       "    </tr>\n",
       "    <tr>\n",
       "      <th>3</th>\n",
       "      <td>d</td>\n",
       "      <td>NaN</td>\n",
       "      <td>NaN</td>\n",
       "      <td>잘함</td>\n",
       "    </tr>\n",
       "  </tbody>\n",
       "</table>\n",
       "</div>"
      ],
      "text/plain": [
       "  이름   축구   농구   배구\n",
       "0  a   잘함   잘함   잘함\n",
       "1  b   잘함   못함   못함\n",
       "2  c   못함   잘함  NaN\n",
       "3  d  NaN  NaN   잘함"
      ]
     },
     "execution_count": 21,
     "metadata": {},
     "output_type": "execute_result"
    }
   ],
   "source": [
    "pd.merge(left = df1, right = df2, how = \"outer\", on = \"이름\")"
   ]
  },
  {
   "cell_type": "markdown",
   "metadata": {
    "id": "6Of572YyqZuh"
   },
   "source": [
    "#### Index 를 기준으로 합치기"
   ]
  },
  {
   "cell_type": "code",
   "execution_count": 22,
   "metadata": {
    "colab": {
     "base_uri": "https://localhost:8080/",
     "height": 173
    },
    "executionInfo": {
     "elapsed": 46,
     "status": "ok",
     "timestamp": 1630977466159,
     "user": {
      "displayName": "김성국",
      "photoUrl": "https://lh3.googleusercontent.com/a/default-user=s64",
      "userId": "14454204284131910272"
     },
     "user_tz": -540
    },
    "id": "-buP_Hp_qZa5",
    "outputId": "ea71eb25-7cbd-4037-a2f8-572619334963"
   },
   "outputs": [
    {
     "data": {
      "text/html": [
       "<div>\n",
       "<style scoped>\n",
       "    .dataframe tbody tr th:only-of-type {\n",
       "        vertical-align: middle;\n",
       "    }\n",
       "\n",
       "    .dataframe tbody tr th {\n",
       "        vertical-align: top;\n",
       "    }\n",
       "\n",
       "    .dataframe thead th {\n",
       "        text-align: right;\n",
       "    }\n",
       "</style>\n",
       "<table border=\"1\" class=\"dataframe\">\n",
       "  <thead>\n",
       "    <tr style=\"text-align: right;\">\n",
       "      <th></th>\n",
       "      <th>배구</th>\n",
       "    </tr>\n",
       "    <tr>\n",
       "      <th>이름</th>\n",
       "      <th></th>\n",
       "    </tr>\n",
       "  </thead>\n",
       "  <tbody>\n",
       "    <tr>\n",
       "      <th>a</th>\n",
       "      <td>잘함</td>\n",
       "    </tr>\n",
       "    <tr>\n",
       "      <th>b</th>\n",
       "      <td>못함</td>\n",
       "    </tr>\n",
       "    <tr>\n",
       "      <th>d</th>\n",
       "      <td>잘함</td>\n",
       "    </tr>\n",
       "  </tbody>\n",
       "</table>\n",
       "</div>"
      ],
      "text/plain": [
       "    배구\n",
       "이름    \n",
       "a   잘함\n",
       "b   못함\n",
       "d   잘함"
      ]
     },
     "execution_count": 22,
     "metadata": {},
     "output_type": "execute_result"
    }
   ],
   "source": [
    "df1 = df1.set_index(\"이름\")\n",
    "df2 = df2.set_index(\"이름\")\n",
    "df2"
   ]
  },
  {
   "cell_type": "code",
   "execution_count": 23,
   "metadata": {
    "colab": {
     "base_uri": "https://localhost:8080/",
     "height": 142
    },
    "executionInfo": {
     "elapsed": 49,
     "status": "ok",
     "timestamp": 1630977466163,
     "user": {
      "displayName": "김성국",
      "photoUrl": "https://lh3.googleusercontent.com/a/default-user=s64",
      "userId": "14454204284131910272"
     },
     "user_tz": -540
    },
    "id": "VsDUD8nTq7Xc",
    "outputId": "82c4c853-ed1c-43f6-9b88-a7dca0a99fa5"
   },
   "outputs": [
    {
     "data": {
      "text/html": [
       "<div>\n",
       "<style scoped>\n",
       "    .dataframe tbody tr th:only-of-type {\n",
       "        vertical-align: middle;\n",
       "    }\n",
       "\n",
       "    .dataframe tbody tr th {\n",
       "        vertical-align: top;\n",
       "    }\n",
       "\n",
       "    .dataframe thead th {\n",
       "        text-align: right;\n",
       "    }\n",
       "</style>\n",
       "<table border=\"1\" class=\"dataframe\">\n",
       "  <thead>\n",
       "    <tr style=\"text-align: right;\">\n",
       "      <th></th>\n",
       "      <th>축구</th>\n",
       "      <th>농구</th>\n",
       "      <th>배구</th>\n",
       "    </tr>\n",
       "    <tr>\n",
       "      <th>이름</th>\n",
       "      <th></th>\n",
       "      <th></th>\n",
       "      <th></th>\n",
       "    </tr>\n",
       "  </thead>\n",
       "  <tbody>\n",
       "    <tr>\n",
       "      <th>a</th>\n",
       "      <td>잘함</td>\n",
       "      <td>잘함</td>\n",
       "      <td>잘함</td>\n",
       "    </tr>\n",
       "    <tr>\n",
       "      <th>b</th>\n",
       "      <td>잘함</td>\n",
       "      <td>못함</td>\n",
       "      <td>못함</td>\n",
       "    </tr>\n",
       "  </tbody>\n",
       "</table>\n",
       "</div>"
      ],
      "text/plain": [
       "    축구  농구  배구\n",
       "이름            \n",
       "a   잘함  잘함  잘함\n",
       "b   잘함  못함  못함"
      ]
     },
     "execution_count": 23,
     "metadata": {},
     "output_type": "execute_result"
    }
   ],
   "source": [
    "pd.merge(left=df1, right=df2, left_index=True, right_index=True, how = \"inner\")"
   ]
  },
  {
   "cell_type": "code",
   "execution_count": 24,
   "metadata": {
    "colab": {
     "base_uri": "https://localhost:8080/",
     "height": 142
    },
    "executionInfo": {
     "elapsed": 51,
     "status": "ok",
     "timestamp": 1630977466166,
     "user": {
      "displayName": "김성국",
      "photoUrl": "https://lh3.googleusercontent.com/a/default-user=s64",
      "userId": "14454204284131910272"
     },
     "user_tz": -540
    },
    "id": "OFr_TwdhrKvo",
    "outputId": "26d34ec0-3677-4304-a68f-eb230a9ccf6c"
   },
   "outputs": [
    {
     "data": {
      "text/html": [
       "<div>\n",
       "<style scoped>\n",
       "    .dataframe tbody tr th:only-of-type {\n",
       "        vertical-align: middle;\n",
       "    }\n",
       "\n",
       "    .dataframe tbody tr th {\n",
       "        vertical-align: top;\n",
       "    }\n",
       "\n",
       "    .dataframe thead th {\n",
       "        text-align: right;\n",
       "    }\n",
       "</style>\n",
       "<table border=\"1\" class=\"dataframe\">\n",
       "  <thead>\n",
       "    <tr style=\"text-align: right;\">\n",
       "      <th></th>\n",
       "      <th>축구</th>\n",
       "      <th>농구</th>\n",
       "      <th>배구</th>\n",
       "    </tr>\n",
       "    <tr>\n",
       "      <th>이름</th>\n",
       "      <th></th>\n",
       "      <th></th>\n",
       "      <th></th>\n",
       "    </tr>\n",
       "  </thead>\n",
       "  <tbody>\n",
       "    <tr>\n",
       "      <th>a</th>\n",
       "      <td>잘함</td>\n",
       "      <td>잘함</td>\n",
       "      <td>잘함</td>\n",
       "    </tr>\n",
       "    <tr>\n",
       "      <th>b</th>\n",
       "      <td>잘함</td>\n",
       "      <td>못함</td>\n",
       "      <td>못함</td>\n",
       "    </tr>\n",
       "  </tbody>\n",
       "</table>\n",
       "</div>"
      ],
      "text/plain": [
       "    축구  농구  배구\n",
       "이름            \n",
       "a   잘함  잘함  잘함\n",
       "b   잘함  못함  못함"
      ]
     },
     "execution_count": 24,
     "metadata": {},
     "output_type": "execute_result"
    }
   ],
   "source": [
    "pd.concat([df1,df2],axis =1, join=\"inner\")"
   ]
  },
  {
   "cell_type": "markdown",
   "metadata": {
    "id": "a2etq3ZCrVcX"
   },
   "source": [
    "### Concat\n",
    "여러개의 동일한 형태의 dataframe 을 합쳐준다."
   ]
  },
  {
   "cell_type": "code",
   "execution_count": 25,
   "metadata": {
    "executionInfo": {
     "elapsed": 52,
     "status": "ok",
     "timestamp": 1630977466168,
     "user": {
      "displayName": "김성국",
      "photoUrl": "https://lh3.googleusercontent.com/a/default-user=s64",
      "userId": "14454204284131910272"
     },
     "user_tz": -540
    },
    "id": "9PwKJ4rPsyk8"
   },
   "outputs": [],
   "source": [
    "fi1 = pd.DataFrame([[\"A0\",\"잘함\",\"잘함\",\"못함\"],\n",
    "                    [\"A1\",\"잘함\",\"못함\", \"잘함\"],\n",
    "                    [\"A2\",\"못함\",\"잘함\", \"못함\"]]\n",
    "                   , columns = [\"fi1\",\"fi2\",\"fi3\",\"fi4\"])\n",
    "fi2 = pd.DataFrame({'fi1': ['A3', 'A4', 'A5'],\n",
    "                    'fi2': ['B3', 'B4', 'B5'],\n",
    "                    'fi3': ['C3', 'C4', 'C5'],\n",
    "                    'fi4': ['D3', 'D4', 'D5']},\n",
    "                   index=[3, 4, 5])"
   ]
  },
  {
   "cell_type": "code",
   "execution_count": 26,
   "metadata": {
    "colab": {
     "base_uri": "https://localhost:8080/",
     "height": 235
    },
    "executionInfo": {
     "elapsed": 54,
     "status": "ok",
     "timestamp": 1630977466170,
     "user": {
      "displayName": "김성국",
      "photoUrl": "https://lh3.googleusercontent.com/a/default-user=s64",
      "userId": "14454204284131910272"
     },
     "user_tz": -540
    },
    "id": "HrOTqWTorVNY",
    "outputId": "af674c5b-d6cb-4ba1-fbbb-eb74e03ce8df"
   },
   "outputs": [
    {
     "data": {
      "text/html": [
       "<div>\n",
       "<style scoped>\n",
       "    .dataframe tbody tr th:only-of-type {\n",
       "        vertical-align: middle;\n",
       "    }\n",
       "\n",
       "    .dataframe tbody tr th {\n",
       "        vertical-align: top;\n",
       "    }\n",
       "\n",
       "    .dataframe thead th {\n",
       "        text-align: right;\n",
       "    }\n",
       "</style>\n",
       "<table border=\"1\" class=\"dataframe\">\n",
       "  <thead>\n",
       "    <tr style=\"text-align: right;\">\n",
       "      <th></th>\n",
       "      <th>fi1</th>\n",
       "      <th>fi2</th>\n",
       "      <th>fi3</th>\n",
       "      <th>fi4</th>\n",
       "    </tr>\n",
       "  </thead>\n",
       "  <tbody>\n",
       "    <tr>\n",
       "      <th>0</th>\n",
       "      <td>A0</td>\n",
       "      <td>잘함</td>\n",
       "      <td>잘함</td>\n",
       "      <td>못함</td>\n",
       "    </tr>\n",
       "    <tr>\n",
       "      <th>1</th>\n",
       "      <td>A1</td>\n",
       "      <td>잘함</td>\n",
       "      <td>못함</td>\n",
       "      <td>잘함</td>\n",
       "    </tr>\n",
       "    <tr>\n",
       "      <th>2</th>\n",
       "      <td>A2</td>\n",
       "      <td>못함</td>\n",
       "      <td>잘함</td>\n",
       "      <td>못함</td>\n",
       "    </tr>\n",
       "    <tr>\n",
       "      <th>3</th>\n",
       "      <td>A3</td>\n",
       "      <td>B3</td>\n",
       "      <td>C3</td>\n",
       "      <td>D3</td>\n",
       "    </tr>\n",
       "    <tr>\n",
       "      <th>4</th>\n",
       "      <td>A4</td>\n",
       "      <td>B4</td>\n",
       "      <td>C4</td>\n",
       "      <td>D4</td>\n",
       "    </tr>\n",
       "    <tr>\n",
       "      <th>5</th>\n",
       "      <td>A5</td>\n",
       "      <td>B5</td>\n",
       "      <td>C5</td>\n",
       "      <td>D5</td>\n",
       "    </tr>\n",
       "  </tbody>\n",
       "</table>\n",
       "</div>"
      ],
      "text/plain": [
       "  fi1 fi2 fi3 fi4\n",
       "0  A0  잘함  잘함  못함\n",
       "1  A1  잘함  못함  잘함\n",
       "2  A2  못함  잘함  못함\n",
       "3  A3  B3  C3  D3\n",
       "4  A4  B4  C4  D4\n",
       "5  A5  B5  C5  D5"
      ]
     },
     "execution_count": 26,
     "metadata": {},
     "output_type": "execute_result"
    }
   ],
   "source": [
    "financial = pd.concat([fi1,fi2],axis=0, join='inner')\n",
    "financial"
   ]
  },
  {
   "cell_type": "markdown",
   "metadata": {
    "id": "FZPWj9vRvNuz"
   },
   "source": [
    "### 셔플링\n",
    "sample 함수를 이용한 셔플링 방법. 간혹 인덱스가 꼬여 있으면 자료를 못 읽거나 이상하게 받아들일 수 있으므로 rest_index 를 꼭해줘야 한다."
   ]
  },
  {
   "cell_type": "code",
   "execution_count": 27,
   "metadata": {
    "colab": {
     "base_uri": "https://localhost:8080/",
     "height": 235
    },
    "executionInfo": {
     "elapsed": 54,
     "status": "ok",
     "timestamp": 1630977466171,
     "user": {
      "displayName": "김성국",
      "photoUrl": "https://lh3.googleusercontent.com/a/default-user=s64",
      "userId": "14454204284131910272"
     },
     "user_tz": -540
    },
    "id": "ezjw1FYGvNoD",
    "outputId": "c6d4a727-428a-44d3-df05-d6f580679068"
   },
   "outputs": [
    {
     "data": {
      "text/html": [
       "<div>\n",
       "<style scoped>\n",
       "    .dataframe tbody tr th:only-of-type {\n",
       "        vertical-align: middle;\n",
       "    }\n",
       "\n",
       "    .dataframe tbody tr th {\n",
       "        vertical-align: top;\n",
       "    }\n",
       "\n",
       "    .dataframe thead th {\n",
       "        text-align: right;\n",
       "    }\n",
       "</style>\n",
       "<table border=\"1\" class=\"dataframe\">\n",
       "  <thead>\n",
       "    <tr style=\"text-align: right;\">\n",
       "      <th></th>\n",
       "      <th>fi1</th>\n",
       "      <th>fi2</th>\n",
       "      <th>fi3</th>\n",
       "      <th>fi4</th>\n",
       "    </tr>\n",
       "  </thead>\n",
       "  <tbody>\n",
       "    <tr>\n",
       "      <th>3</th>\n",
       "      <td>A3</td>\n",
       "      <td>B3</td>\n",
       "      <td>C3</td>\n",
       "      <td>D3</td>\n",
       "    </tr>\n",
       "    <tr>\n",
       "      <th>5</th>\n",
       "      <td>A5</td>\n",
       "      <td>B5</td>\n",
       "      <td>C5</td>\n",
       "      <td>D5</td>\n",
       "    </tr>\n",
       "    <tr>\n",
       "      <th>4</th>\n",
       "      <td>A4</td>\n",
       "      <td>B4</td>\n",
       "      <td>C4</td>\n",
       "      <td>D4</td>\n",
       "    </tr>\n",
       "    <tr>\n",
       "      <th>0</th>\n",
       "      <td>A0</td>\n",
       "      <td>잘함</td>\n",
       "      <td>잘함</td>\n",
       "      <td>못함</td>\n",
       "    </tr>\n",
       "    <tr>\n",
       "      <th>1</th>\n",
       "      <td>A1</td>\n",
       "      <td>잘함</td>\n",
       "      <td>못함</td>\n",
       "      <td>잘함</td>\n",
       "    </tr>\n",
       "    <tr>\n",
       "      <th>2</th>\n",
       "      <td>A2</td>\n",
       "      <td>못함</td>\n",
       "      <td>잘함</td>\n",
       "      <td>못함</td>\n",
       "    </tr>\n",
       "  </tbody>\n",
       "</table>\n",
       "</div>"
      ],
      "text/plain": [
       "  fi1 fi2 fi3 fi4\n",
       "3  A3  B3  C3  D3\n",
       "5  A5  B5  C5  D5\n",
       "4  A4  B4  C4  D4\n",
       "0  A0  잘함  잘함  못함\n",
       "1  A1  잘함  못함  잘함\n",
       "2  A2  못함  잘함  못함"
      ]
     },
     "execution_count": 27,
     "metadata": {},
     "output_type": "execute_result"
    }
   ],
   "source": [
    "financial = financial.sample(frac=1)\n",
    "financial"
   ]
  },
  {
   "cell_type": "code",
   "execution_count": 28,
   "metadata": {
    "colab": {
     "base_uri": "https://localhost:8080/",
     "height": 235
    },
    "executionInfo": {
     "elapsed": 56,
     "status": "ok",
     "timestamp": 1630977466173,
     "user": {
      "displayName": "김성국",
      "photoUrl": "https://lh3.googleusercontent.com/a/default-user=s64",
      "userId": "14454204284131910272"
     },
     "user_tz": -540
    },
    "id": "ugWLYw-5vj9j",
    "outputId": "61b66d80-e8f6-4325-d7bd-26a7b420352a"
   },
   "outputs": [
    {
     "data": {
      "text/html": [
       "<div>\n",
       "<style scoped>\n",
       "    .dataframe tbody tr th:only-of-type {\n",
       "        vertical-align: middle;\n",
       "    }\n",
       "\n",
       "    .dataframe tbody tr th {\n",
       "        vertical-align: top;\n",
       "    }\n",
       "\n",
       "    .dataframe thead th {\n",
       "        text-align: right;\n",
       "    }\n",
       "</style>\n",
       "<table border=\"1\" class=\"dataframe\">\n",
       "  <thead>\n",
       "    <tr style=\"text-align: right;\">\n",
       "      <th></th>\n",
       "      <th>fi1</th>\n",
       "      <th>fi2</th>\n",
       "      <th>fi3</th>\n",
       "      <th>fi4</th>\n",
       "    </tr>\n",
       "  </thead>\n",
       "  <tbody>\n",
       "    <tr>\n",
       "      <th>0</th>\n",
       "      <td>A3</td>\n",
       "      <td>B3</td>\n",
       "      <td>C3</td>\n",
       "      <td>D3</td>\n",
       "    </tr>\n",
       "    <tr>\n",
       "      <th>1</th>\n",
       "      <td>A5</td>\n",
       "      <td>B5</td>\n",
       "      <td>C5</td>\n",
       "      <td>D5</td>\n",
       "    </tr>\n",
       "    <tr>\n",
       "      <th>2</th>\n",
       "      <td>A4</td>\n",
       "      <td>B4</td>\n",
       "      <td>C4</td>\n",
       "      <td>D4</td>\n",
       "    </tr>\n",
       "    <tr>\n",
       "      <th>3</th>\n",
       "      <td>A0</td>\n",
       "      <td>잘함</td>\n",
       "      <td>잘함</td>\n",
       "      <td>못함</td>\n",
       "    </tr>\n",
       "    <tr>\n",
       "      <th>4</th>\n",
       "      <td>A1</td>\n",
       "      <td>잘함</td>\n",
       "      <td>못함</td>\n",
       "      <td>잘함</td>\n",
       "    </tr>\n",
       "    <tr>\n",
       "      <th>5</th>\n",
       "      <td>A2</td>\n",
       "      <td>못함</td>\n",
       "      <td>잘함</td>\n",
       "      <td>못함</td>\n",
       "    </tr>\n",
       "  </tbody>\n",
       "</table>\n",
       "</div>"
      ],
      "text/plain": [
       "  fi1 fi2 fi3 fi4\n",
       "0  A3  B3  C3  D3\n",
       "1  A5  B5  C5  D5\n",
       "2  A4  B4  C4  D4\n",
       "3  A0  잘함  잘함  못함\n",
       "4  A1  잘함  못함  잘함\n",
       "5  A2  못함  잘함  못함"
      ]
     },
     "execution_count": 28,
     "metadata": {},
     "output_type": "execute_result"
    }
   ],
   "source": [
    "financial = financial.reset_index(drop=True)\n",
    "financial"
   ]
  },
  {
   "cell_type": "markdown",
   "metadata": {
    "id": "4PAlt4wCxr9J"
   },
   "source": [
    "### replace\n",
    "pandas 데이터를 받아들일 때 float 형태여야 하기 때문에 글자 형태인 것을 바꿔준다."
   ]
  },
  {
   "cell_type": "code",
   "execution_count": 29,
   "metadata": {
    "colab": {
     "base_uri": "https://localhost:8080/"
    },
    "executionInfo": {
     "elapsed": 58,
     "status": "ok",
     "timestamp": 1630977466176,
     "user": {
      "displayName": "김성국",
      "photoUrl": "https://lh3.googleusercontent.com/a/default-user=s64",
      "userId": "14454204284131910272"
     },
     "user_tz": -540
    },
    "id": "b_IisKlvyAiU",
    "outputId": "3b46adf1-275d-4f52-82d4-ea8b90ff44d8"
   },
   "outputs": [
    {
     "data": {
      "text/plain": [
       "array(['좋아', '싫어'], dtype=object)"
      ]
     },
     "execution_count": 29,
     "metadata": {},
     "output_type": "execute_result"
    }
   ],
   "source": [
    "financial = pd.read_csv(\"/tmp/example.csv\")\n",
    "add_col = ['좋아', '싫어', '싫어','싫어', '좋아']\n",
    "financial['say'] = add_col\n",
    "financial['say'].unique()"
   ]
  },
  {
   "cell_type": "code",
   "execution_count": 30,
   "metadata": {
    "colab": {
     "base_uri": "https://localhost:8080/",
     "height": 204
    },
    "executionInfo": {
     "elapsed": 55,
     "status": "ok",
     "timestamp": 1630977466177,
     "user": {
      "displayName": "김성국",
      "photoUrl": "https://lh3.googleusercontent.com/a/default-user=s64",
      "userId": "14454204284131910272"
     },
     "user_tz": -540
    },
    "id": "59gQg_WdxryK",
    "outputId": "45810261-28f3-4c22-9ce6-a8470a18a9bd"
   },
   "outputs": [
    {
     "data": {
      "text/html": [
       "<div>\n",
       "<style scoped>\n",
       "    .dataframe tbody tr th:only-of-type {\n",
       "        vertical-align: middle;\n",
       "    }\n",
       "\n",
       "    .dataframe tbody tr th {\n",
       "        vertical-align: top;\n",
       "    }\n",
       "\n",
       "    .dataframe thead th {\n",
       "        text-align: right;\n",
       "    }\n",
       "</style>\n",
       "<table border=\"1\" class=\"dataframe\">\n",
       "  <thead>\n",
       "    <tr style=\"text-align: right;\">\n",
       "      <th></th>\n",
       "      <th>a</th>\n",
       "      <th>b</th>\n",
       "      <th>c</th>\n",
       "      <th>d</th>\n",
       "      <th>e</th>\n",
       "      <th>say</th>\n",
       "    </tr>\n",
       "  </thead>\n",
       "  <tbody>\n",
       "    <tr>\n",
       "      <th>0</th>\n",
       "      <td>1</td>\n",
       "      <td>2</td>\n",
       "      <td>3</td>\n",
       "      <td>4</td>\n",
       "      <td>5</td>\n",
       "      <td>1.0</td>\n",
       "    </tr>\n",
       "    <tr>\n",
       "      <th>1</th>\n",
       "      <td>6</td>\n",
       "      <td>1</td>\n",
       "      <td>2</td>\n",
       "      <td>3</td>\n",
       "      <td>4</td>\n",
       "      <td>0.0</td>\n",
       "    </tr>\n",
       "    <tr>\n",
       "      <th>2</th>\n",
       "      <td>7</td>\n",
       "      <td>8</td>\n",
       "      <td>9</td>\n",
       "      <td>0</td>\n",
       "      <td>9</td>\n",
       "      <td>0.0</td>\n",
       "    </tr>\n",
       "    <tr>\n",
       "      <th>3</th>\n",
       "      <td>4</td>\n",
       "      <td>5</td>\n",
       "      <td>6</td>\n",
       "      <td>7</td>\n",
       "      <td>8</td>\n",
       "      <td>0.0</td>\n",
       "    </tr>\n",
       "    <tr>\n",
       "      <th>4</th>\n",
       "      <td>11</td>\n",
       "      <td>13</td>\n",
       "      <td>8</td>\n",
       "      <td>5</td>\n",
       "      <td>5</td>\n",
       "      <td>1.0</td>\n",
       "    </tr>\n",
       "  </tbody>\n",
       "</table>\n",
       "</div>"
      ],
      "text/plain": [
       "    a   b  c  d  e  say\n",
       "0   1   2  3  4  5  1.0\n",
       "1   6   1  2  3  4  0.0\n",
       "2   7   8  9  0  9  0.0\n",
       "3   4   5  6  7  8  0.0\n",
       "4  11  13  8  5  5  1.0"
      ]
     },
     "execution_count": 30,
     "metadata": {},
     "output_type": "execute_result"
    }
   ],
   "source": [
    "change_dict3 = {'좋아': 1., '싫어': 0.}\n",
    "financial = financial.replace({\"say\" : change_dict3})\n",
    "financial"
   ]
  },
  {
   "cell_type": "markdown",
   "metadata": {
    "id": "uzikAeS1yZTt"
   },
   "source": [
    "### One hot encoding\n",
    "1, 3, 4, 6, 7, 8 이런 식의 숫자가 반복된다면 그것의 강도를 머신이 정확히 알 수 없을 수 있다. 그래서 one hot encoding 을 통해 정확하게 만들어준다."
   ]
  },
  {
   "cell_type": "code",
   "execution_count": 31,
   "metadata": {
    "colab": {
     "base_uri": "https://localhost:8080/"
    },
    "executionInfo": {
     "elapsed": 558,
     "status": "ok",
     "timestamp": 1630977466681,
     "user": {
      "displayName": "김성국",
      "photoUrl": "https://lh3.googleusercontent.com/a/default-user=s64",
      "userId": "14454204284131910272"
     },
     "user_tz": -540
    },
    "id": "1xH_mnBVyZLQ",
    "outputId": "a3f882e0-e3a9-4b94-a5cd-4707556b1ccf"
   },
   "outputs": [
    {
     "data": {
      "text/plain": [
       "array([4, 3, 0, 7, 5])"
      ]
     },
     "execution_count": 31,
     "metadata": {},
     "output_type": "execute_result"
    }
   ],
   "source": [
    "financial[\"d\"].unique()"
   ]
  },
  {
   "cell_type": "code",
   "execution_count": 32,
   "metadata": {
    "colab": {
     "base_uri": "https://localhost:8080/",
     "height": 204
    },
    "executionInfo": {
     "elapsed": 50,
     "status": "ok",
     "timestamp": 1630977466682,
     "user": {
      "displayName": "김성국",
      "photoUrl": "https://lh3.googleusercontent.com/a/default-user=s64",
      "userId": "14454204284131910272"
     },
     "user_tz": -540
    },
    "id": "Ny2fd0Cmy1zy",
    "outputId": "fa637279-5694-455d-af8c-455612d2b88e"
   },
   "outputs": [
    {
     "data": {
      "text/html": [
       "<div>\n",
       "<style scoped>\n",
       "    .dataframe tbody tr th:only-of-type {\n",
       "        vertical-align: middle;\n",
       "    }\n",
       "\n",
       "    .dataframe tbody tr th {\n",
       "        vertical-align: top;\n",
       "    }\n",
       "\n",
       "    .dataframe thead th {\n",
       "        text-align: right;\n",
       "    }\n",
       "</style>\n",
       "<table border=\"1\" class=\"dataframe\">\n",
       "  <thead>\n",
       "    <tr style=\"text-align: right;\">\n",
       "      <th></th>\n",
       "      <th>0</th>\n",
       "      <th>3</th>\n",
       "      <th>4</th>\n",
       "      <th>5</th>\n",
       "      <th>7</th>\n",
       "    </tr>\n",
       "  </thead>\n",
       "  <tbody>\n",
       "    <tr>\n",
       "      <th>0</th>\n",
       "      <td>0</td>\n",
       "      <td>0</td>\n",
       "      <td>1</td>\n",
       "      <td>0</td>\n",
       "      <td>0</td>\n",
       "    </tr>\n",
       "    <tr>\n",
       "      <th>1</th>\n",
       "      <td>0</td>\n",
       "      <td>1</td>\n",
       "      <td>0</td>\n",
       "      <td>0</td>\n",
       "      <td>0</td>\n",
       "    </tr>\n",
       "    <tr>\n",
       "      <th>2</th>\n",
       "      <td>1</td>\n",
       "      <td>0</td>\n",
       "      <td>0</td>\n",
       "      <td>0</td>\n",
       "      <td>0</td>\n",
       "    </tr>\n",
       "    <tr>\n",
       "      <th>3</th>\n",
       "      <td>0</td>\n",
       "      <td>0</td>\n",
       "      <td>0</td>\n",
       "      <td>0</td>\n",
       "      <td>1</td>\n",
       "    </tr>\n",
       "    <tr>\n",
       "      <th>4</th>\n",
       "      <td>0</td>\n",
       "      <td>0</td>\n",
       "      <td>0</td>\n",
       "      <td>1</td>\n",
       "      <td>0</td>\n",
       "    </tr>\n",
       "  </tbody>\n",
       "</table>\n",
       "</div>"
      ],
      "text/plain": [
       "   0  3  4  5  7\n",
       "0  0  0  1  0  0\n",
       "1  0  1  0  0  0\n",
       "2  1  0  0  0  0\n",
       "3  0  0  0  0  1\n",
       "4  0  0  0  1  0"
      ]
     },
     "execution_count": 32,
     "metadata": {},
     "output_type": "execute_result"
    }
   ],
   "source": [
    "from sklearn.preprocessing import OneHotEncoder\n",
    "enc = OneHotEncoder(handle_unknown='ignore')\n",
    "# enc.fit(.reshqpe(-1,1))\n",
    "temp2 = pd.get_dummies(financial[\"d\"])\n",
    "temp2"
   ]
  },
  {
   "cell_type": "code",
   "execution_count": 33,
   "metadata": {
    "colab": {
     "base_uri": "https://localhost:8080/",
     "height": 204
    },
    "executionInfo": {
     "elapsed": 49,
     "status": "ok",
     "timestamp": 1630977466683,
     "user": {
      "displayName": "김성국",
      "photoUrl": "https://lh3.googleusercontent.com/a/default-user=s64",
      "userId": "14454204284131910272"
     },
     "user_tz": -540
    },
    "id": "FuYdk25ey_hp",
    "outputId": "412a775c-3b24-4923-cef9-fd92a1c67e22"
   },
   "outputs": [
    {
     "data": {
      "text/html": [
       "<div>\n",
       "<style scoped>\n",
       "    .dataframe tbody tr th:only-of-type {\n",
       "        vertical-align: middle;\n",
       "    }\n",
       "\n",
       "    .dataframe tbody tr th {\n",
       "        vertical-align: top;\n",
       "    }\n",
       "\n",
       "    .dataframe thead th {\n",
       "        text-align: right;\n",
       "    }\n",
       "</style>\n",
       "<table border=\"1\" class=\"dataframe\">\n",
       "  <thead>\n",
       "    <tr style=\"text-align: right;\">\n",
       "      <th></th>\n",
       "      <th>a</th>\n",
       "      <th>b</th>\n",
       "      <th>c</th>\n",
       "      <th>d</th>\n",
       "      <th>e</th>\n",
       "      <th>say</th>\n",
       "      <th>0</th>\n",
       "      <th>3</th>\n",
       "      <th>4</th>\n",
       "      <th>5</th>\n",
       "      <th>7</th>\n",
       "    </tr>\n",
       "  </thead>\n",
       "  <tbody>\n",
       "    <tr>\n",
       "      <th>0</th>\n",
       "      <td>1</td>\n",
       "      <td>2</td>\n",
       "      <td>3</td>\n",
       "      <td>4</td>\n",
       "      <td>5</td>\n",
       "      <td>1.0</td>\n",
       "      <td>0</td>\n",
       "      <td>0</td>\n",
       "      <td>1</td>\n",
       "      <td>0</td>\n",
       "      <td>0</td>\n",
       "    </tr>\n",
       "    <tr>\n",
       "      <th>1</th>\n",
       "      <td>6</td>\n",
       "      <td>1</td>\n",
       "      <td>2</td>\n",
       "      <td>3</td>\n",
       "      <td>4</td>\n",
       "      <td>0.0</td>\n",
       "      <td>0</td>\n",
       "      <td>1</td>\n",
       "      <td>0</td>\n",
       "      <td>0</td>\n",
       "      <td>0</td>\n",
       "    </tr>\n",
       "    <tr>\n",
       "      <th>2</th>\n",
       "      <td>7</td>\n",
       "      <td>8</td>\n",
       "      <td>9</td>\n",
       "      <td>0</td>\n",
       "      <td>9</td>\n",
       "      <td>0.0</td>\n",
       "      <td>1</td>\n",
       "      <td>0</td>\n",
       "      <td>0</td>\n",
       "      <td>0</td>\n",
       "      <td>0</td>\n",
       "    </tr>\n",
       "    <tr>\n",
       "      <th>3</th>\n",
       "      <td>4</td>\n",
       "      <td>5</td>\n",
       "      <td>6</td>\n",
       "      <td>7</td>\n",
       "      <td>8</td>\n",
       "      <td>0.0</td>\n",
       "      <td>0</td>\n",
       "      <td>0</td>\n",
       "      <td>0</td>\n",
       "      <td>0</td>\n",
       "      <td>1</td>\n",
       "    </tr>\n",
       "    <tr>\n",
       "      <th>4</th>\n",
       "      <td>11</td>\n",
       "      <td>13</td>\n",
       "      <td>8</td>\n",
       "      <td>5</td>\n",
       "      <td>5</td>\n",
       "      <td>1.0</td>\n",
       "      <td>0</td>\n",
       "      <td>0</td>\n",
       "      <td>0</td>\n",
       "      <td>1</td>\n",
       "      <td>0</td>\n",
       "    </tr>\n",
       "  </tbody>\n",
       "</table>\n",
       "</div>"
      ],
      "text/plain": [
       "    a   b  c  d  e  say  0  3  4  5  7\n",
       "0   1   2  3  4  5  1.0  0  0  1  0  0\n",
       "1   6   1  2  3  4  0.0  0  1  0  0  0\n",
       "2   7   8  9  0  9  0.0  1  0  0  0  0\n",
       "3   4   5  6  7  8  0.0  0  0  0  0  1\n",
       "4  11  13  8  5  5  1.0  0  0  0  1  0"
      ]
     },
     "execution_count": 33,
     "metadata": {},
     "output_type": "execute_result"
    }
   ],
   "source": [
    "financial = pd.concat([financial,temp2],axis=1, join='inner')\n",
    "financial"
   ]
  },
  {
   "cell_type": "code",
   "execution_count": 34,
   "metadata": {
    "colab": {
     "base_uri": "https://localhost:8080/",
     "height": 204
    },
    "executionInfo": {
     "elapsed": 48,
     "status": "ok",
     "timestamp": 1630977466684,
     "user": {
      "displayName": "김성국",
      "photoUrl": "https://lh3.googleusercontent.com/a/default-user=s64",
      "userId": "14454204284131910272"
     },
     "user_tz": -540
    },
    "id": "UebYIDvQzKLK",
    "outputId": "cd926f98-7021-4211-87b4-1e395412a25e"
   },
   "outputs": [
    {
     "data": {
      "text/html": [
       "<div>\n",
       "<style scoped>\n",
       "    .dataframe tbody tr th:only-of-type {\n",
       "        vertical-align: middle;\n",
       "    }\n",
       "\n",
       "    .dataframe tbody tr th {\n",
       "        vertical-align: top;\n",
       "    }\n",
       "\n",
       "    .dataframe thead th {\n",
       "        text-align: right;\n",
       "    }\n",
       "</style>\n",
       "<table border=\"1\" class=\"dataframe\">\n",
       "  <thead>\n",
       "    <tr style=\"text-align: right;\">\n",
       "      <th></th>\n",
       "      <th>a</th>\n",
       "      <th>b</th>\n",
       "      <th>c</th>\n",
       "      <th>e</th>\n",
       "      <th>say</th>\n",
       "      <th>0</th>\n",
       "      <th>3</th>\n",
       "      <th>4</th>\n",
       "      <th>5</th>\n",
       "      <th>7</th>\n",
       "    </tr>\n",
       "  </thead>\n",
       "  <tbody>\n",
       "    <tr>\n",
       "      <th>0</th>\n",
       "      <td>1</td>\n",
       "      <td>2</td>\n",
       "      <td>3</td>\n",
       "      <td>5</td>\n",
       "      <td>1.0</td>\n",
       "      <td>0</td>\n",
       "      <td>0</td>\n",
       "      <td>1</td>\n",
       "      <td>0</td>\n",
       "      <td>0</td>\n",
       "    </tr>\n",
       "    <tr>\n",
       "      <th>1</th>\n",
       "      <td>6</td>\n",
       "      <td>1</td>\n",
       "      <td>2</td>\n",
       "      <td>4</td>\n",
       "      <td>0.0</td>\n",
       "      <td>0</td>\n",
       "      <td>1</td>\n",
       "      <td>0</td>\n",
       "      <td>0</td>\n",
       "      <td>0</td>\n",
       "    </tr>\n",
       "    <tr>\n",
       "      <th>2</th>\n",
       "      <td>7</td>\n",
       "      <td>8</td>\n",
       "      <td>9</td>\n",
       "      <td>9</td>\n",
       "      <td>0.0</td>\n",
       "      <td>1</td>\n",
       "      <td>0</td>\n",
       "      <td>0</td>\n",
       "      <td>0</td>\n",
       "      <td>0</td>\n",
       "    </tr>\n",
       "    <tr>\n",
       "      <th>3</th>\n",
       "      <td>4</td>\n",
       "      <td>5</td>\n",
       "      <td>6</td>\n",
       "      <td>8</td>\n",
       "      <td>0.0</td>\n",
       "      <td>0</td>\n",
       "      <td>0</td>\n",
       "      <td>0</td>\n",
       "      <td>0</td>\n",
       "      <td>1</td>\n",
       "    </tr>\n",
       "    <tr>\n",
       "      <th>4</th>\n",
       "      <td>11</td>\n",
       "      <td>13</td>\n",
       "      <td>8</td>\n",
       "      <td>5</td>\n",
       "      <td>1.0</td>\n",
       "      <td>0</td>\n",
       "      <td>0</td>\n",
       "      <td>0</td>\n",
       "      <td>1</td>\n",
       "      <td>0</td>\n",
       "    </tr>\n",
       "  </tbody>\n",
       "</table>\n",
       "</div>"
      ],
      "text/plain": [
       "    a   b  c  e  say  0  3  4  5  7\n",
       "0   1   2  3  5  1.0  0  0  1  0  0\n",
       "1   6   1  2  4  0.0  0  1  0  0  0\n",
       "2   7   8  9  9  0.0  1  0  0  0  0\n",
       "3   4   5  6  8  0.0  0  0  0  0  1\n",
       "4  11  13  8  5  1.0  0  0  0  1  0"
      ]
     },
     "execution_count": 34,
     "metadata": {},
     "output_type": "execute_result"
    }
   ],
   "source": [
    "financial = financial.drop([\"d\"], axis=1, inplace=False)\n",
    "financial"
   ]
  },
  {
   "cell_type": "markdown",
   "metadata": {
    "id": "v3Hs6e9zgvFA"
   },
   "source": [
    "## Correlation\n",
    "[Pearson Correlation Coefficient](https://en.wikipedia.org/wiki/Pearson_correlation_coefficient)를 구할 수 있는 corr(), corrwith() 함수를 제공합니다. 이들 함수를 groupby() 와 apply(lambda func)를 함께 사용함으로써 그룹 별 변수 간 상관계수를 구할 수 있습니다. \n",
    "\n",
    "출처:  [R, Python 분석과 프로그래밍의 친구 (by R Friend)](https://rfriend.tistory.com/405)"
   ]
  },
  {
   "cell_type": "code",
   "execution_count": 35,
   "metadata": {
    "colab": {
     "base_uri": "https://localhost:8080/"
    },
    "executionInfo": {
     "elapsed": 48,
     "status": "ok",
     "timestamp": 1630977466685,
     "user": {
      "displayName": "김성국",
      "photoUrl": "https://lh3.googleusercontent.com/a/default-user=s64",
      "userId": "14454204284131910272"
     },
     "user_tz": -540
    },
    "id": "4QgamfzfgOEF",
    "outputId": "d673e2ef-1034-4cea-f1f9-1daad0fe193d"
   },
   "outputs": [
    {
     "name": "stdout",
     "output_type": "stream",
     "text": [
      "          0         1   2         3\n",
      "0  1.000000  0.966282 NaN -0.983120\n",
      "1  0.966282  1.000000 NaN -0.917002\n",
      "2       NaN       NaN NaN       NaN\n",
      "3 -0.983120 -0.917002 NaN  1.000000\n",
      "Int64Index([0, 1, 3], dtype='int64')\n"
     ]
    }
   ],
   "source": [
    "lst = [[1,2,3,4,5,6,7],\n",
    "        [10,15,20,25,50,55,60],\n",
    "        [0,0,0,0,0,0,0],\n",
    "        [-1,-20,-30,-45,-50,-55,-70]]\n",
    "\n",
    "df = pd.DataFrame(lst).T\n",
    "corr = df.corr(method = 'pearson')\n",
    "print(corr)\n",
    "\n",
    "print(corr.index[abs(corr[3])>=0.45])"
   ]
  },
  {
   "cell_type": "markdown",
   "metadata": {
    "id": "FPD45_9jhY_P"
   },
   "source": [
    "## Normalization\n",
    "데이터가 가진 feature의 스케일이 심하게 차이가 나는 경우 문제가 되기 때문에 모든 데이터 포인트가 동일한 정도의 스케일(중요도)로 반영되도록 해주는 게 정규화(Normalization)의 목표이다.\n",
    "\n",
    "출처. [아무튼 워라벨](http://hleecaster.com/ml-normalization-concept/)"
   ]
  },
  {
   "cell_type": "markdown",
   "metadata": {
    "id": "mT19Z6uJh51X"
   },
   "source": [
    "### Basic"
   ]
  },
  {
   "cell_type": "code",
   "execution_count": 36,
   "metadata": {
    "executionInfo": {
     "elapsed": 38,
     "status": "ok",
     "timestamp": 1630977466686,
     "user": {
      "displayName": "김성국",
      "photoUrl": "https://lh3.googleusercontent.com/a/default-user=s64",
      "userId": "14454204284131910272"
     },
     "user_tz": -540
    },
    "id": "DzEcqih-hY1X"
   },
   "outputs": [],
   "source": [
    "def norm(x):\n",
    "  _max = x.max()\n",
    "  _min = x.min()\n",
    "  _denom = _max - _min\n",
    "  return (x - _min) / _denom"
   ]
  },
  {
   "cell_type": "markdown",
   "metadata": {
    "id": "Wp4RQVN9h6d6"
   },
   "source": [
    "### Pandas"
   ]
  },
  {
   "cell_type": "code",
   "execution_count": 37,
   "metadata": {
    "colab": {
     "base_uri": "https://localhost:8080/"
    },
    "executionInfo": {
     "elapsed": 38,
     "status": "ok",
     "timestamp": 1630977466686,
     "user": {
      "displayName": "김성국",
      "photoUrl": "https://lh3.googleusercontent.com/a/default-user=s64",
      "userId": "14454204284131910272"
     },
     "user_tz": -540
    },
    "id": "2ZIO_uTSh6LX",
    "outputId": "14cb2cbf-80ad-4ba6-e3ad-88a5c7393051"
   },
   "outputs": [
    {
     "name": "stdout",
     "output_type": "stream",
     "text": [
      "[10. 15. 20. 25. 50. 55. 60.] [ -1. -20. -30. -45. -50. -55. -70.]\n",
      "[[0.18181818 0.62857143 0.66       0.7        0.55       0.55454545\n",
      "  0.59230769]\n",
      " [1.         1.         1.         1.         1.         1.\n",
      "  1.        ]\n",
      " [0.09090909 0.57142857 0.6        0.64285714 0.5        0.5\n",
      "  0.53846154]\n",
      " [0.         0.         0.         0.         0.         0.\n",
      "  0.        ]]\n"
     ]
    }
   ],
   "source": [
    "from sklearn.preprocessing import MinMaxScaler\n",
    "lst = [[1,2,3,4,5,6,7],\n",
    "        [10,15,20,25,50,55,60],\n",
    "        [0,0,0,0,0,0,0],\n",
    "        [-1,-20,-30,-45,-50,-55,-70]]\n",
    "df = lst\n",
    "min_max_scaler = MinMaxScaler()\n",
    "fitted = min_max_scaler.fit(df)\n",
    "print(fitted.data_max_, fitted.data_min_)\n",
    "\n",
    "output = min_max_scaler.transform(df)\n",
    "print(output)"
   ]
  },
  {
   "cell_type": "code",
   "execution_count": 37,
   "metadata": {
    "executionInfo": {
     "elapsed": 34,
     "status": "ok",
     "timestamp": 1630977466687,
     "user": {
      "displayName": "김성국",
      "photoUrl": "https://lh3.googleusercontent.com/a/default-user=s64",
      "userId": "14454204284131910272"
     },
     "user_tz": -540
    },
    "id": "VfCUZA09ikr3"
   },
   "outputs": [],
   "source": []
  }
 ],
 "metadata": {
  "colab": {
   "collapsed_sections": [],
   "name": "03_Pandas_DataProcessing.ipynb",
   "provenance": []
  },
  "kernelspec": {
   "display_name": "Python 3",
   "language": "python",
   "name": "python3"
  },
  "language_info": {
   "codemirror_mode": {
    "name": "ipython",
    "version": 3
   },
   "file_extension": ".py",
   "mimetype": "text/x-python",
   "name": "python",
   "nbconvert_exporter": "python",
   "pygments_lexer": "ipython3",
   "version": "3.8.9"
  }
 },
 "nbformat": 4,
 "nbformat_minor": 4
}
