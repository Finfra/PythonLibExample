{
 "cells": [
  {
   "cell_type": "markdown",
   "metadata": {
    "id": "98fS6SR1j9SQ"
   },
   "source": [
    "# Numpy Fuction Example\n",
    "Numpy 에서 Data를 다룰 때 쓰이는 Fuction 들을 알아봅니다."
   ]
  },
  {
   "cell_type": "markdown",
   "metadata": {
    "id": "JAX3RMaeM9Rj"
   },
   "source": [
    "## Import "
   ]
  },
  {
   "cell_type": "code",
   "execution_count": 1,
   "metadata": {
    "executionInfo": {
     "elapsed": 4,
     "status": "ok",
     "timestamp": 1628735547487,
     "user": {
      "displayName": "김성국",
      "photoUrl": "",
      "userId": "14454204284131910272"
     },
     "user_tz": -540
    },
    "id": "XApoSIYqM5p3"
   },
   "outputs": [],
   "source": [
    "import numpy as np"
   ]
  },
  {
   "cell_type": "markdown",
   "metadata": {
    "id": "KSeJ615VMOkA"
   },
   "source": [
    "## Arange 함수\n",
    "반열린구간 [start, stop) 에서 step 의 크기만큼 일정하게 떨어져 있는 숫자들을 array 형태로 반환해 주는 함수다.\n",
    "\n",
    "출처: https://codepractice.tistory.com/88 [코딩 연습]"
   ]
  },
  {
   "cell_type": "markdown",
   "metadata": {
    "id": "cOAGUYoXMV-Y"
   },
   "source": [
    "stop 매개변수의 값만 전달하면 0을 시작으로 1 간격으로 떨어진 수들을 반환한다."
   ]
  },
  {
   "cell_type": "code",
   "execution_count": 2,
   "metadata": {
    "colab": {
     "base_uri": "https://localhost:8080/"
    },
    "executionInfo": {
     "elapsed": 28,
     "status": "ok",
     "timestamp": 1628735548172,
     "user": {
      "displayName": "김성국",
      "photoUrl": "",
      "userId": "14454204284131910272"
     },
     "user_tz": -540
    },
    "id": "hOmC6Yz2MPat",
    "outputId": "9a0bd891-77f7-45c2-e52d-5e9a335529ab"
   },
   "outputs": [
    {
     "data": {
      "text/plain": [
       "array([0, 1, 2, 3, 4])"
      ]
     },
     "execution_count": 2,
     "metadata": {
      "tags": []
     },
     "output_type": "execute_result"
    }
   ],
   "source": [
    "np.arange(5)"
   ]
  },
  {
   "cell_type": "markdown",
   "metadata": {
    "id": "LX8oJnKqMbBQ"
   },
   "source": [
    "start 와 stop 이 주어진 경우로 반열린구간 [start, stop) 에서 start 를 시작으로 1 간격으로 떨어진 수들을 반환한다."
   ]
  },
  {
   "cell_type": "code",
   "execution_count": 3,
   "metadata": {
    "colab": {
     "base_uri": "https://localhost:8080/"
    },
    "executionInfo": {
     "elapsed": 25,
     "status": "ok",
     "timestamp": 1628735548174,
     "user": {
      "displayName": "김성국",
      "photoUrl": "",
      "userId": "14454204284131910272"
     },
     "user_tz": -540
    },
    "id": "oNz7U2zdMb56",
    "outputId": "12957fbe-92b0-482d-fe82-ea516c5d691a"
   },
   "outputs": [
    {
     "data": {
      "text/plain": [
       "array([3, 4, 5, 6])"
      ]
     },
     "execution_count": 3,
     "metadata": {
      "tags": []
     },
     "output_type": "execute_result"
    }
   ],
   "source": [
    "np.arange(3,7)"
   ]
  },
  {
   "cell_type": "markdown",
   "metadata": {
    "id": "kMHJ3ZpJMe0f"
   },
   "source": [
    "start, stop, step 이 모두 주어지면 start 를 시작으로  stop 이 되기 전까지의 step 간격으로 떨어진 수들을 반환한다."
   ]
  },
  {
   "cell_type": "code",
   "execution_count": 4,
   "metadata": {
    "colab": {
     "base_uri": "https://localhost:8080/"
    },
    "executionInfo": {
     "elapsed": 24,
     "status": "ok",
     "timestamp": 1628735548175,
     "user": {
      "displayName": "김성국",
      "photoUrl": "",
      "userId": "14454204284131910272"
     },
     "user_tz": -540
    },
    "id": "A6JVwOd7MfMw",
    "outputId": "9a461fa5-52ef-4358-f14c-a835fde0f115"
   },
   "outputs": [
    {
     "data": {
      "text/plain": [
       "array([3, 5, 7])"
      ]
     },
     "execution_count": 4,
     "metadata": {
      "tags": []
     },
     "output_type": "execute_result"
    }
   ],
   "source": [
    "np.arange(3,9,2)"
   ]
  },
  {
   "cell_type": "markdown",
   "metadata": {
    "id": "OqoZDxuTIjqu"
   },
   "source": [
    "## abs 함수\n",
    "- 절대값을 리턴."
   ]
  },
  {
   "cell_type": "code",
   "execution_count": 5,
   "metadata": {
    "colab": {
     "base_uri": "https://localhost:8080/"
    },
    "executionInfo": {
     "elapsed": 22,
     "status": "ok",
     "timestamp": 1628735548176,
     "user": {
      "displayName": "김성국",
      "photoUrl": "",
      "userId": "14454204284131910272"
     },
     "user_tz": -540
    },
    "id": "TPawCc_kG3mS",
    "outputId": "8bf9fefc-2629-4099-b5bf-6c4823323034"
   },
   "outputs": [
    {
     "data": {
      "text/plain": [
       "array([[1, 2],\n",
       "       [3, 4]])"
      ]
     },
     "execution_count": 5,
     "metadata": {
      "tags": []
     },
     "output_type": "execute_result"
    }
   ],
   "source": [
    "arr=np.array([[1,2,],[3,-4]])\n",
    "np.abs(arr)"
   ]
  },
  {
   "cell_type": "markdown",
   "metadata": {
    "id": "wKqMZC0gIrBt"
   },
   "source": [
    "## sqrt 함수\n",
    "- 제곱근(루트)을 계산함."
   ]
  },
  {
   "cell_type": "code",
   "execution_count": 6,
   "metadata": {
    "colab": {
     "base_uri": "https://localhost:8080/"
    },
    "executionInfo": {
     "elapsed": 19,
     "status": "ok",
     "timestamp": 1628735548177,
     "user": {
      "displayName": "김성국",
      "photoUrl": "",
      "userId": "14454204284131910272"
     },
     "user_tz": -540
    },
    "id": "E9SHXz83IrtG",
    "outputId": "693d0221-83e9-409d-89ca-c5b244498d04"
   },
   "outputs": [
    {
     "name": "stderr",
     "output_type": "stream",
     "text": [
      "/usr/local/lib/python3.7/dist-packages/ipykernel_launcher.py:1: RuntimeWarning: invalid value encountered in sqrt\n",
      "  \"\"\"Entry point for launching an IPython kernel.\n"
     ]
    },
    {
     "data": {
      "text/plain": [
       "array([[1.        , 1.41421356],\n",
       "       [1.73205081,        nan]])"
      ]
     },
     "execution_count": 6,
     "metadata": {
      "tags": []
     },
     "output_type": "execute_result"
    }
   ],
   "source": [
    "np.sqrt(arr)"
   ]
  },
  {
   "cell_type": "markdown",
   "metadata": {
    "id": "ZNjNtnHFJCee"
   },
   "source": [
    "## 행렬곱하기\n",
    "- * 를 통해 곱하기 가능"
   ]
  },
  {
   "cell_type": "code",
   "execution_count": 7,
   "metadata": {
    "colab": {
     "base_uri": "https://localhost:8080/"
    },
    "executionInfo": {
     "elapsed": 323,
     "status": "ok",
     "timestamp": 1628735548484,
     "user": {
      "displayName": "김성국",
      "photoUrl": "",
      "userId": "14454204284131910272"
     },
     "user_tz": -540
    },
    "id": "HjDMVUMDJDDX",
    "outputId": "a217987e-d55a-4f8d-879c-e34dfeab0aaa"
   },
   "outputs": [
    {
     "data": {
      "text/plain": [
       "array([[ 1,  4],\n",
       "       [ 9, 16]])"
      ]
     },
     "execution_count": 7,
     "metadata": {
      "tags": []
     },
     "output_type": "execute_result"
    }
   ],
   "source": [
    "arr*arr"
   ]
  },
  {
   "cell_type": "markdown",
   "metadata": {
    "id": "8KdvNBctJXcV"
   },
   "source": [
    "## dot 함수\n",
    "두 1차원 어레이 a, b의 곱에 대해, np.dot(a, b)는 두 벡터의 내적 (Dot product)을 반환합니다.<br>\n",
    "(0차원, 2차원은 * 를 권장합니다.)"
   ]
  },
  {
   "cell_type": "code",
   "execution_count": 8,
   "metadata": {
    "colab": {
     "base_uri": "https://localhost:8080/"
    },
    "executionInfo": {
     "elapsed": 6,
     "status": "ok",
     "timestamp": 1628735548485,
     "user": {
      "displayName": "김성국",
      "photoUrl": "",
      "userId": "14454204284131910272"
     },
     "user_tz": -540
    },
    "id": "6chuYzDjJXvu",
    "outputId": "78e04a4d-8b6a-43e3-f161-6400b810751f"
   },
   "outputs": [
    {
     "data": {
      "text/plain": [
       "-5"
      ]
     },
     "execution_count": 8,
     "metadata": {
      "tags": []
     },
     "output_type": "execute_result"
    }
   ],
   "source": [
    "np.dot(arr[0],arr[1])"
   ]
  },
  {
   "cell_type": "markdown",
   "metadata": {},
   "source": [
    "## Function\n",
    "|함 수                  |설 명                                                     |비고                          |\n",
    "|---------------------|--------------------------------------------------------|----------------------------|\n",
    "|abs, fabs            |절대값을 리턴. 복소수가 아닌 경우에는 빠른 연산을 위해 fabs를  이용한다.            |numpy.abs(arr)              |\n",
    "|sqrt                 |제곱근(루트)을 계산함.                                           |numpy.sqrt(arr)             |\n",
    "|square               |제곱을 계산함.                                                |numpy.square(arr)           |\n",
    "|Exp                  |지수를 계산함.                                                |numpy.Exp(arr)              |\n",
    "|Log                  |로그를 계산함.                                                |numpy.Log(arr)              |\n",
    "|sign                 |각 원소의 부호를 계산함. 양수 : 1, 음수 : -1                          |numpy.sign(arr)             |\n",
    "|ceil                 |소수를 올림으로 계산함.                                           |numpy.ceil(arr)             |\n",
    "|floor                |소수를 버림으로 계산함.                                           |numpy.floor(arr)            |\n",
    "|rint                 |소수를 반올림한다. type은 유지된다.                                  |numpy.rint(arr)             |\n",
    "|modf                 |각 원소의 몫과 나머지를 리턴한다. 두 개의 ndarray를 리턴한다.                 |numpy.modf(arr)             |\n",
    "|isnan                |숫자인지 아닌지를 판별해서 불리언 배열을 리턴한다.                            |numpy.isnan(arr)            |\n",
    "|add                  |두 배열을 더한다.                                              |numpy.add(arr1, arr2)       |\n",
    "|subtract             |첫 번째 배열에서 두 번째 배열을 뺀다.                                  |numpy.subtract(arr1, arr2)|\n",
    "|multiply             |두 배열을 곱한다.                                              |numpy.multiply(arr1, arr2)|\n",
    "|divide, floor_divide|첫 번째 배열에서 두 번째 배열을 나눈다. floor_divide는 몫만 리턴한다.          |numpy.divide(arr1, arr2)    |\n",
    "|power                |첫 번째 배열의 원소를 두 번째 배열의 원소의 값 만큼 제곱한다.                    |numpy.power(arr1, arr2)     |\n",
    "|maxinum, fmax        |두 배열 중 큰 값을 리턴한다. fmax는 NaN을 무시한다.                      |numpy.maximum(arr1, arr2)   |\n",
    "|minimum, fmin        |두 배열 중 작은 값을 리턴한다. fmin은 NaN을 무시한다.                     |numpy.minimum(arr1, arr2)   |\n",
    "|mod                  |첫 번째 배열에서 두 번째 배열을 나눈 나머지를 리턴한다.                        |numpy.mod(arr1, arr2)       |\n",
    "|greater, less, equal|첫 번째 배열 원소와 두 번째 배열 원소간의 >, <, = 조건 결과를 불리언 배열로 리턴한다.|numpy.greater(arr1, arr2)   |\n"
   ]
  },
  {
   "cell_type": "code",
   "execution_count": null,
   "metadata": {},
   "outputs": [],
   "source": []
  }
 ],
 "metadata": {
  "accelerator": "GPU",
  "colab": {
   "collapsed_sections": [],
   "name": "02_Numpy_Function.ipynb",
   "provenance": [],
   "toc_visible": true
  },
  "kernelspec": {
   "display_name": "Python 3",
   "language": "python",
   "name": "python3"
  },
  "language_info": {
   "codemirror_mode": {
    "name": "ipython",
    "version": 3
   },
   "file_extension": ".py",
   "mimetype": "text/x-python",
   "name": "python",
   "nbconvert_exporter": "python",
   "pygments_lexer": "ipython3",
   "version": "3.8.9"
  },
  "toc-showtags": false
 },
 "nbformat": 4,
 "nbformat_minor": 4
}
