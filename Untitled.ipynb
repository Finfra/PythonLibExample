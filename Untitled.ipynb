{
 "cells": [
  {
   "cell_type": "markdown",
   "metadata": {},
   "source": [
    "# Python Library Example\n",
    "\n",
    "본 문서는 Keras를 사용하여 Deep Learning을 구현하기 위한 기초적인 실습 자료. \n",
    "\n",
    "The code and comments are written by NamJungGu <nowage@gmail.com> <br>\n",
    "Maintained by  SungKukKim <nackchun@gmail.com> <br>\n",
    "\n",
    "<a rel=\"license\" href=\"http://creativecommons.org/licenses/by-nc-sa/4.0/\"><img alt=\"Creative Commons License\" style=\"border-width:0\" src=\"https://i.creativecommons.org/l/by-nc-sa/4.0/88x31.png\" /></a><br />This work is licensed under a <a rel=\"license\" href=\"http://creativecommons.org/licenses/by-nc-sa/4.0/\">Creative Commons Attribution-NonCommercial-ShareAlike 4.0 International License</a>.\n",
    "\n",
    "\n",
    "\n"
   ]
  },
  {
   "cell_type": "markdown",
   "metadata": {},
   "source": [
    "# Example\n",
    "## [01.Jupyter](./01.Jupyter)\n",
    "## [02.Matplotlib](./02.Matplotlib)\n",
    "## [03.Numpy](./03.Numpy)\n",
    "## [04.Pandas](./04.Pandas)\n",
    "## [05.Scikit-learn](./05.Scikit-learn)\n",
    "## [81.ImgAug](./81.ImgAug)\n",
    "## [82.KoNLPy](./82.KoNLPy)\n",
    "## [91.Jinja2](./91.Jinja2)\n",
    "## [92.web.py](./92.web.py)\n",
    "---\n",
    "\n",
    "\n"
   ]
  },
  {
   "cell_type": "code",
   "execution_count": null,
   "metadata": {},
   "outputs": [],
   "source": []
  }
 ],
 "metadata": {
  "kernelspec": {
   "display_name": "Python 3",
   "language": "python",
   "name": "python3"
  },
  "language_info": {
   "codemirror_mode": {
    "name": "ipython",
    "version": 3
   },
   "file_extension": ".py",
   "mimetype": "text/x-python",
   "name": "python",
   "nbconvert_exporter": "python",
   "pygments_lexer": "ipython3",
   "version": "3.8.9"
  }
 },
 "nbformat": 4,
 "nbformat_minor": 4
}
