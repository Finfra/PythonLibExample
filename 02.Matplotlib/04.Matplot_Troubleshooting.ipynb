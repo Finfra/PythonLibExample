{
 "cells": [
  {
   "cell_type": "markdown",
   "metadata": {
    "id": "N-hGV5URrFtS"
   },
   "source": [
    "# Font문제"
   ]
  },
  {
   "cell_type": "markdown",
   "metadata": {
    "id": "NgHKEjGLrFtV"
   },
   "source": [
    "## Minus 폰트 깨짐 문제 해결"
   ]
  },
  {
   "cell_type": "code",
   "execution_count": null,
   "metadata": {
    "id": "eCbLvZVYrFtW"
   },
   "outputs": [],
   "source": [
    "import matplotlib\n",
    "matplotlib.rcParams['axes.unicode_minus'] = False"
   ]
  },
  {
   "cell_type": "markdown",
   "metadata": {
    "id": "sSCjlYxDrFtX"
   },
   "source": [
    "## 한글 사용"
   ]
  },
  {
   "cell_type": "code",
   "execution_count": null,
   "metadata": {
    "id": "CxRADqpGrFtY"
   },
   "outputs": [],
   "source": [
    "import matplotlib.pyplot as plt\n",
    "x = range(100)\n",
    "y = [ i*i for i in x]\n",
    "plt.rcParams[\"font.family\"] = \"NanumGothicCoding\"\n",
    "plt.plot(x,y)\n",
    "plt.xlabel('엑스')\n",
    "plt.ylabel('Probability')\n",
    "plt.show()"
   ]
  },
  {
   "cell_type": "markdown",
   "metadata": {
    "id": "A-9kTFq3rFtY"
   },
   "source": [
    "or\n",
    "* 설치된 폰트의 이름을 알 때"
   ]
  },
  {
   "cell_type": "code",
   "execution_count": null,
   "metadata": {
    "id": "oKvMFKPFrFtZ"
   },
   "outputs": [],
   "source": [
    "plt.rc('font', family='Nanum Gothic Coding')"
   ]
  },
  {
   "cell_type": "markdown",
   "metadata": {
    "id": "JLMiPxUYrFta"
   },
   "source": [
    "or\n",
    "* Font파일 위치는 아는데 이름은 모를때"
   ]
  },
  {
   "cell_type": "code",
   "execution_count": null,
   "metadata": {
    "id": "ydsnu8G2rFta"
   },
   "outputs": [],
   "source": [
    "from matplotlib import font_manager\n",
    "font_path=\"/usr/share/fonts/truetype/nanum/NanumGothicCoding.ttf\"\n",
    "font_name = font_manager.FontProperties(fname=font_path).get_name()\n",
    "plt.rc('font', family=font_name)"
   ]
  },
  {
   "cell_type": "markdown",
   "metadata": {
    "id": "yGOlMRnKrFtb"
   },
   "source": [
    "## OpenCV와 헷갈리지 말자"
   ]
  },
  {
   "cell_type": "code",
   "execution_count": 1,
   "metadata": {
    "colab": {
     "base_uri": "https://localhost:8080/",
     "height": 450
    },
    "executionInfo": {
     "elapsed": 1012,
     "status": "ok",
     "timestamp": 1631511736224,
     "user": {
      "displayName": "HyunJae Na",
      "photoUrl": "https://lh3.googleusercontent.com/a/default-user=s64",
      "userId": "01248657443637565537"
     },
     "user_tz": -540
    },
    "id": "Ko5CxdhyrFtb",
    "outputId": "162ad315-3e08-4587-e8bb-34af4ef882cc"
   },
   "outputs": [
    {
     "name": "stdout",
     "output_type": "stream",
     "text": [
      "--2021-09-13 05:42:15--  http://finfra.com/f/f.png\n",
      "Resolving finfra.com (finfra.com)... 211.252.85.187\n",
      "Connecting to finfra.com (finfra.com)|211.252.85.187|:80... connected.\n",
      "HTTP request sent, awaiting response... 200 OK\n",
      "Length: 1928 (1.9K) [image/png]\n",
      "Saving to: ‘/tmp/f.png’\n",
      "\n",
      "/tmp/f.png          100%[===================>]   1.88K  --.-KB/s    in 0s      \n",
      "\n",
      "2021-09-13 05:42:15 (338 MB/s) - ‘/tmp/f.png’ saved [1928/1928]\n",
      "\n"
     ]
    },
    {
     "data": {
      "text/plain": [
       "<matplotlib.image.AxesImage at 0x7fc83c7c14d0>"
      ]
     },
     "execution_count": 1,
     "metadata": {},
     "output_type": "execute_result"
    },
    {
     "data": {
      "image/png": "[encoded data removed]",
      "text/plain": [
       "<Figure size 432x288 with 1 Axes>"
      ]
     },
     "metadata": {
      "needs_background": "light"
     },
     "output_type": "display_data"
    }
   ],
   "source": [
    "import cv2\n",
    "from matplotlib.pyplot import imshow,axis,imread\n",
    "\n",
    "from os.path import join,isfile,isdir\n",
    "import pandas as pd\n",
    "url = 'http://finfra.com/f/f.png'\n",
    "dPath='/tmp/f.png'  \n",
    "if not isfile(dPath) :\n",
    "    !wget -O{dPath} {url} \n",
    "    \n",
    "    \n",
    "    \n",
    "img = cv2.imread(dPath)\n",
    "img2=cv2.cvtColor(img, cv2.COLOR_BGR2RGB)\n",
    "axis(\"off\")\n",
    "imshow(img2)\n",
    "# cv2.imshow(\"f.png\",img2)\n",
    "# cv2.waitKey(0)\n",
    "# cv2.destroyAllWindows()"
   ]
  },
  {
   "cell_type": "markdown",
   "metadata": {
    "id": "nVjzULL9sG0_"
   },
   "source": [
    "### Cf) matplot 방식에서 읽으면 배경이 희다. "
   ]
  },
  {
   "cell_type": "code",
   "execution_count": 7,
   "metadata": {
    "colab": {
     "base_uri": "https://localhost:8080/",
     "height": 283
    },
    "executionInfo": {
     "elapsed": 1122,
     "status": "ok",
     "timestamp": 1631512091524,
     "user": {
      "displayName": "HyunJae Na",
      "photoUrl": "https://lh3.googleusercontent.com/a/default-user=s64",
      "userId": "01248657443637565537"
     },
     "user_tz": -540
    },
    "id": "hbPe9-8PrFtd",
    "outputId": "82600876-1190-40c2-b8d0-08dff6d0a8e7"
   },
   "outputs": [
    {
     "data": {
      "text/plain": [
       "<matplotlib.image.AxesImage at 0x7f7ea651a550>"
      ]
     },
     "execution_count": 7,
     "metadata": {},
     "output_type": "execute_result"
    },
    {
     "data": {
      "image/png": "[encoded data removed]",
      "text/plain": [
       "<Figure size 432x288 with 1 Axes>"
      ]
     },
     "metadata": {
      "needs_background": "light"
     },
     "output_type": "display_data"
    }
   ],
   "source": [
    "%matplotlib inline\n",
    "from matplotlib.pyplot import imread,imshow,subplots\n",
    "i=imread('/tmp/f.png')\n",
    "imshow(i)"
   ]
  },
  {
   "cell_type": "code",
   "execution_count": null,
   "metadata": {
    "id": "qGDF8hHUrzOE"
   },
   "outputs": [],
   "source": []
  }
 ],
 "metadata": {
  "colab": {
   "collapsed_sections": [],
   "name": "04.Matplot_Troubleshooting.ipynb",
   "provenance": []
  },
  "kernelspec": {
   "display_name": "Python 3 (ipykernel)",
   "language": "python",
   "name": "python3"
  },
  "language_info": {
   "codemirror_mode": {
    "name": "ipython",
    "version": 3
   },
   "file_extension": ".py",
   "mimetype": "text/x-python",
   "name": "python",
   "nbconvert_exporter": "python",
   "pygments_lexer": "ipython3",
   "version": "3.8.9"
  }
 },
 "nbformat": 4,
 "nbformat_minor": 4
}
