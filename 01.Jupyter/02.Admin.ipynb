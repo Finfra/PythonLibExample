{
 "cells": [
  {
   "cell_type": "markdown",
   "metadata": {},
   "source": [
    "# Install and Execute"
   ]
  },
  {
   "cell_type": "markdown",
   "metadata": {},
   "source": [
    "## Basic Install\n",
    "* 이하 Colab 호환(90%)\n",
    "```\n",
    "brew install lzlib  #sudo apt-get install zlib1g-dev\n",
    "echo 'export PYENV_ROOT=\"$HOME/.pyenv\"'>>~/.profile\n",
    "echo 'export PATH=\"$PYENV_ROOT/bin:$PATH\"'>>~/.profile\n",
    "echo 'eval \"$(pyenv init -)\"'>>~/.profile\n",
    "\n",
    "brew install pyenv\n",
    "pyenv versions\n",
    "pyenv install 3.6.9\n",
    "pyenv global 3.6.9\n",
    "\n",
    "rmvirtualenv python3\n",
    "mkvirtualenv python3 --python=/Users/nowage/.pyenv/versions/3.6.9/bin/python3\n",
    "workon python3\n",
    "python3 -m pip install --upgrade pip\n",
    "python3 -m pip install jupyter jupyterlab\n",
    "python3 -m pip install jupyter_nbextensions_configurator\n",
    "python3 -m pip install ipykernel\n",
    "python3 -m pip install -r /Users/Shared/__BigData/_DeepLearning/_memo_CoLab_requirement.txt\n",
    "python3 -m ipykernel install --user --name=python3\n",
    "\n",
    "workon python3\n",
    "open -a /Applications/_Viewer_Browser/Firefox.app  https://0.0.0.0:2020/lab/\n",
    "python3 -m jupyter lab  --ip=0.0.0.0 --port=2020  --allow-root  --no-browser\n",
    "\n",
    "```\n",
    "\n",
    "cf)\n",
    "```\n",
    "export LDFLAGS=\"-L/usr/local/opt/zlib/lib\"\n",
    "export CPPFLAGS=\"-I/usr/local/opt/zlib/include\"\n",
    "export PKG_CONFIG_PATH=\"/usr/local/opt/zlib/lib/pkgconfig\"\n",
    "```"
   ]
  },
  {
   "cell_type": "markdown",
   "metadata": {},
   "source": [
    "## install pip packages\n",
    "```\n",
    "python3.6 -m pip install numpy seaborn numpy sklearn tensorflow==2.3.0 tensorboard==2.3.0 tensorboard-plugin-wit==1.7.0 tensorboardcolab==0.0.22 tensorflow==2.3.0 tensorflow-addons==0.8.3 tensorflow-datasets==4.0.1 tensorflow-estimator==2.3.0 tensorflow-gcs-config==2.3.0 tensorflow-hub==0.10.0 tensorflow-metadata==0.25.0 tensorflow-privacy==0.2.2 tensorflow-probability==0.11.0\n",
    "```"
   ]
  },
  {
   "cell_type": "markdown",
   "metadata": {},
   "source": [
    "# Jupyter run more Examples\n",
    "```\n",
    "jupyter notebook --ip=0.0.0.0\n",
    "jupyter notebook --ip=0.0.0.0 --port=8889  --allow-root --no-browser 2>>  /tmp/jupyter.log  &\n",
    "tail -f /tmp/jupyter.log\n",
    "# http://nowage.iptime.org:8889\n",
    "\n",
    "jupyter lab  --ip=0.0.0.0 --port=2020  --allow-root  2>>  /tmp/jupyter.log  &\n",
    "tail -f /tmp/jupyter.log\n",
    "# http://nowage.iptime.org:2020\n",
    "\n",
    "```"
   ]
  },
  {
   "cell_type": "markdown",
   "metadata": {},
   "source": [
    "## nbopen\n",
    "* References : https://github.com/takluyver/nbopen , https://github.com/takluyver/nbopen\n",
    "* 설치\n",
    "```\n",
    "python3 -m pip install nbopen\n",
    "```\n",
    "\n",
    "* 사용\n",
    "```\n",
    "nbopen AwesomeNotebook.ipynb\n",
    "```\n",
    "\n",
    "* 윈도우 더블클릭 오픈(윈도우 기준)\n",
    "```\n",
    "python3 -m nbopen.install_win\n",
    "```"
   ]
  },
  {
   "cell_type": "markdown",
   "metadata": {},
   "source": [
    "# Admin\n",
    "## Password Reset\n",
    "```shell\n",
    "# Notebook의 경우\n",
    "jupyter notebook password\n",
    "# lab의 경우\n",
    "jupyter server password\n",
    "```"
   ]
  },
  {
   "cell_type": "markdown",
   "metadata": {},
   "source": [
    "## Kernel Remove\n",
    "```python\n",
    "python3 -m jupyter kernelspec list\n",
    "echo 'y'|python3 -m jupyter kernelspec uninstall p3.6\n",
    "python3 -m jupyter kernelspec list\n",
    "```"
   ]
  },
  {
   "cell_type": "code",
   "execution_count": null,
   "metadata": {},
   "outputs": [],
   "source": []
  }
 ],
 "metadata": {
  "kernelspec": {
   "display_name": "Python 3",
   "language": "python",
   "name": "python3"
  },
  "language_info": {
   "codemirror_mode": {
    "name": "ipython",
    "version": 3
   },
   "file_extension": ".py",
   "mimetype": "text/x-python",
   "name": "python",
   "nbconvert_exporter": "python",
   "pygments_lexer": "ipython3",
   "version": "3.8.9"
  }
 },
 "nbformat": 4,
 "nbformat_minor": 4
}
