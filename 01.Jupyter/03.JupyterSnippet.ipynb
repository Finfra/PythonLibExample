{
 "cells": [
  {
   "cell_type": "markdown",
   "metadata": {},
   "source": [
    "### 자주쓰는"
   ]
  },
  {
   "cell_type": "code",
   "execution_count": null,
   "metadata": {},
   "outputs": [],
   "source": [
    "%cd "
   ]
  },
  {
   "cell_type": "code",
   "execution_count": null,
   "metadata": {},
   "outputs": [],
   "source": [
    "!ls "
   ]
  },
  {
   "cell_type": "code",
   "execution_count": null,
   "metadata": {},
   "outputs": [],
   "source": [
    "?math "
   ]
  },
  {
   "cell_type": "code",
   "execution_count": null,
   "metadata": {},
   "outputs": [],
   "source": [
    "%matplotlib inline"
   ]
  },
  {
   "cell_type": "code",
   "execution_count": null,
   "metadata": {},
   "outputs": [],
   "source": [
    "%matplotlib notebook"
   ]
  },
  {
   "cell_type": "code",
   "execution_count": null,
   "metadata": {},
   "outputs": [],
   "source": [
    "%history"
   ]
  },
  {
   "cell_type": "code",
   "execution_count": null,
   "metadata": {},
   "outputs": [],
   "source": [
    "%%bash             \n",
    "# 이하 모두 Bashshell로 인식\n",
    "ls -als\n",
    "pwd"
   ]
  },
  {
   "cell_type": "code",
   "execution_count": null,
   "metadata": {},
   "outputs": [],
   "source": []
  },
  {
   "cell_type": "markdown",
   "metadata": {},
   "source": [
    "# Jupyter 매직 기능\n",
    "* References : https://ipython.readthedocs.io/en/stable/interactive/magics.html\n",
    "* Source : https://3months.tistory.com/392 [Deep Play]\n",
    "\n",
    "* 매직 기능은 Ipython kernel 에서 제공하는 것이며, Jupyter lab 과 Jupyhter notebook 모두에서 작동합니다. 이는 어떤 언어를 선택하든 (예를 들어, Jupyter lab 에서 R을 사용하든 Python 을 사용하든) 동작합니다."
   ]
  },
  {
   "cell_type": "markdown",
   "metadata": {},
   "source": [
    "## Code Mode\n",
    "1. %matplotlib inline 플롯을 화면 안에서 보여준다.\n",
    "2. %lsmagic 매직 기능에 어떤것들이 있는지 출력해준다.\n",
    "3. %env\n",
    "    * %env 모든 환경변수를 출력한다.\n",
    "    * %env var 해당 이름의 환경변수를 출력한다.\n",
    "    * (%env var val) or (%env var=val) 환경변수를 설정한다.\n",
    "4. %run\n",
    "    * %run file_name 해당 이름의 .py 파일 또는 .ipynb 파일을 셀 안에서 실행한다.\n",
    "5. %load\n",
    "    * %load source 해당 파일을 셀 안에 로드한다.\n",
    "6. %who = will list all variables that exist in the global scope. It can be used to see what all data_frames or any other variable is there in memory.\n",
    "    * %who: 현재 전역 환경의 모든 변수를 리스트한다. (메모리에 어떤 변수들이 올라와 있나 확인할 수 있다.)\n",
    "    * %who df: 현재 선언된 dataframe 을 볼 수 있다.\n",
    "    * %whos: %who 와 비슷하지만 각 변수들에 대해 상세한 설명을 볼 수 있다.\n",
    "7. %time 한 셀이 실행된 시간을 볼 수 있다.\n",
    "8. %timeit 10만 번 실행하여 평균 시간을 잰다.\n",
    "9. %writefile\n",
    "    * %writefile file_name 해당 파일의 셀의 아웃풋을 쓴다.\n",
    "    * %writefile -a file_name 해당 파일의 셀의 아웃풋을 덧붙인다."
   ]
  },
  {
   "cell_type": "markdown",
   "metadata": {},
   "source": [
    "## Markdown Mode"
   ]
  },
  {
   "cell_type": "markdown",
   "metadata": {},
   "source": [
    "$$y=\\int_{i=0}^{\\infty}x $$"
   ]
  },
  {
   "cell_type": "markdown",
   "metadata": {},
   "source": [
    "# CF\n",
    "## nodejs install"
   ]
  },
  {
   "cell_type": "code",
   "execution_count": null,
   "metadata": {},
   "outputs": [],
   "source": [
    "%%bash\n",
    "curl -sL https://deb.nodesource.com/setup_10.x -o nodesource_setup.sh\n",
    "bash nodesource_setup.sh\n",
    "apt-get install -y nodejs"
   ]
  },
  {
   "cell_type": "code",
   "execution_count": null,
   "metadata": {},
   "outputs": [],
   "source": []
  },
  {
   "cell_type": "code",
   "execution_count": null,
   "metadata": {},
   "outputs": [],
   "source": []
  }
 ],
 "metadata": {
  "kernelspec": {
   "display_name": "Python 3",
   "language": "python",
   "name": "python3"
  },
  "language_info": {
   "codemirror_mode": {
    "name": "ipython",
    "version": 3
   },
   "file_extension": ".py",
   "mimetype": "text/x-python",
   "name": "python",
   "nbconvert_exporter": "python",
   "pygments_lexer": "ipython3",
   "version": "3.8.9"
  }
 },
 "nbformat": 4,
 "nbformat_minor": 4
}
