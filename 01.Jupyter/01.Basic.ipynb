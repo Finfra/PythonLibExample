{
 "cells": [
  {
   "cell_type": "markdown",
   "metadata": {},
   "source": [
    "# Shortcut\n",
    "## Basic\n",
    "|내용           |shortcut |\n",
    "|---------------|---------|\n",
    "|편집 나가기    |esc      |\n",
    "|편집하기      |enter    |\n",
    "|실행하고 멈추기 |⌃+⏎     |\n",
    "|실행하고 나가기 |⇧+⏎    |\n",
    "|셀분할         |⌃+⇧+-  |\n",
    "|저장           |ctrl(⌘)+s     |\n",
    "|Command Pallette           |ctrl(⌘)+shift+p (jupyter lab에서는 c)      |\n",
    "\n",
    "### General Shortcut\n",
    "|key          |Action                  |\n",
    "|-------------|------------------------|\n",
    "|Tab          |코드자동완성            |\n",
    "|Ctrl + ]     |들여쓰기(indent)        |\n",
    "|Ctrl + [     |내어쓰기(detent)        |\n",
    "|Shift + Enter|다음셀선택              |\n",
    "|Enter        |에디트모드 진입         |\n",
    "|Shift-Enter  |run cell , select below |\n",
    "|Alt-Enter    |run cell , insert below |\n",
    "|Y            |to code                 |\n",
    "|M            |to markdown             |\n",
    "|R            |to raw                  |\n",
    "|A/B          |insert cell above/­below |\n",
    "|X            |cut selected cell       |\n",
    "|C            |copy selected cell      |\n",
    "|Shift-V      |paste cell above        |\n",
    "|V            |paste cell below        |\n",
    "|Z            |undo last cell deletion |\n",
    "|DD           |delete selected cell    |\n",
    "|Shift-M      |merge cell below        |\n",
    "|L            |toggle line numbers     |"
   ]
  },
  {
   "cell_type": "code",
   "execution_count": null,
   "metadata": {},
   "outputs": [],
   "source": []
  }
 ],
 "metadata": {
  "kernelspec": {
   "display_name": "Python 3",
   "language": "python",
   "name": "python3"
  },
  "language_info": {
   "codemirror_mode": {
    "name": "ipython",
    "version": 3
   },
   "file_extension": ".py",
   "mimetype": "text/x-python",
   "name": "python",
   "nbconvert_exporter": "python",
   "pygments_lexer": "ipython3",
   "version": "3.8.9"
  }
 },
 "nbformat": 4,
 "nbformat_minor": 4
}
